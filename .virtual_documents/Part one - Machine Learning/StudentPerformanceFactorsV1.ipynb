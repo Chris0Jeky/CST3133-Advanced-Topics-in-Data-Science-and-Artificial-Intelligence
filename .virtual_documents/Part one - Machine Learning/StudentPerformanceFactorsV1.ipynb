import pandas as pd
import numpy as np
import matplotlib.pyplot as plt
import seaborn as sns
import os as os

# Mount Google Drive (if running in Colab)
# from google.colab import drive
# drive.mount('/content/drive')

# Load the dataset, handling missing values and inconsistencies
file_path = 'content/StudentPerformanceFactors.csv'
missing_values = ["--", "N/A", "NULL", "Not Available", "Unknown", ""]

try:
    df = pd.read_csv(file_path, na_values=missing_values)
except FileNotFoundError:
    print(f"Error: The file '{file_path}' was not found. Please check the path.")
    exit()  # Exit the script if the file isn't found





print("Original Data - Head:")
print(df.head())
print("\nOriginal Data - Info:")
df.info()
print("\nOriginal Data - Describe:")
print(df.describe(include='all'))
print("\nOriginal Data - Shape:")
print(df.shape)








# Convert 'Hours_Studied' to numeric, coercing errors to NaN
df['Hours_Studied'] = pd.to_numeric(df['Hours_Studied'], errors='coerce')

# Convert 'Attendance' to numeric, coercing errors to NaN
df['Attendance'] = pd.to_numeric(df['Attendance'], errors='coerce')

# Convert 'Previous_Scores' to numeric, coercing errors to NaN
df['Previous_Scores'] = pd.to_numeric(df['Previous_Scores'], errors='coerce')


# Convert 'Family_Income' to numeric, coercing errors to NaN, and handling potential errors
try:
    df['Family_Income'] = pd.to_numeric(df['Family_Income'], errors='raise') #errors raise to make sure all errors are handled, see below
except ValueError as e:
    print(f"\nError converting 'Family_Income' to numeric: {e}")
    print("Unique non-numeric values in 'Family_Income':", df['Family_Income'].loc[pd.to_numeric(df['Family_Income'], errors='coerce').isna()].unique())


# Convert 'Family_Income' to numeric
df['Family_Income'] = df['Family_Income'].replace({'Low':1, 'Medium':2, 'High':3})

# Clean up 'Exam_Score'
df['Exam_Score'] = pd.to_numeric(df['Exam_Score'], errors='coerce')

# Deal with other missing values
df['Gender'] = df['Gender'].replace({'Male': 'MALE', 'Female': 'FEMALE'})


df.describe()

# Impute numerical missing values with the median
for col in [
    'Hours_Studied', 'Attendance', 'Previous_Scores',
    'Exam_Score', 'Sleep_Hours', 'Physical_Activity'
]:
    df[col] = df[col].fillna(df[col].median())

df.describe()


df.info()

for col in [
    'Parental_Involvement', 'Access_to_Resources', 'Extracurricular_Activities',
    'Internet_Access', 'Tutoring_Sessions', 'School_Type','Peer_Influence',
    'Learning_Disabilities', 'Parental_Education_Level', 'Distance_from_Home',
    'Gender','Family_Income', 'Teacher_Quality', 'Motivation_Level'
]:
    df[col] = df[col].fillna(df[col].mode()[0])

df.info()


#Print data types of each column
print(df.dtypes)


# Check the data types and unique values again
print("\nCleaned Data - Info:")
df.info()
print("\nCleaned Data - Head:")
print(df.head())


df.describe(include='all')
print(df.shape)


# Step 3: Feature Engineering
df['Parental_Involvement_Score'] = df['Parental_Involvement'].map({'Low': 1, 'Medium': 2, 'High': 3})
df['Parental_Education_Score'] = df['Parental_Education_Level'].map({'High School': 1, 'College': 2, 'Postgraduate': 3})
df['Combined_Parental_Score'] = df['Parental_Involvement_Score'] + df['Parental_Education_Score']








# Histograms for numerical features
numerical_cols = ['Hours_Studied', 'Attendance', 'Sleep_Hours', 'Previous_Scores', 'Family_Income', 'Exam_Score','Combined_Parental_Score']
for col in numerical_cols:
    plt.figure(figsize=(6, 4))
    sns.histplot(df[col], kde=False) # Removed kde, can also do it with
    plt.title(f'Distribution of {col}')
    plt.show()


# Bar plots for categorical features
categorical_cols = ['Parental_Involvement', 'Access_to_Resources', 'Extracurricular_Activities',
                    'Internet_Access', 'Tutoring_Sessions', 'Teacher_Quality', 'School_Type',
                    'Peer_Influence', 'Learning_Disabilities', 'Parental_Education_Level', 'Gender']
for col in categorical_cols:
    plt.figure(figsize=(6, 4))
    sns.countplot(x=col, data=df)
    plt.title(f'Distribution of {col}')
    plt.xticks(rotation=45)
    plt.show()


# Scatter plots against 'Exam_Score'
for col in numerical_cols:
    if col != 'Exam_Score':  # Avoid Exam_Score vs. Exam_Score
        plt.figure(figsize=(6, 4))
        sns.scatterplot(x=col, y='Exam_Score', data=df)
        plt.title(f'{col} vs. Exam_Score')
        plt.show()


# Box plots for categorical features against 'Exam_Score'
for col in categorical_cols:
    plt.figure(figsize=(6, 4))
    sns.boxplot(x=col, y='Exam_Score', data=df)
    plt.title(f'{col} vs. Exam_Score')
    plt.xticks(rotation=45)
    plt.show()


# Correlation matrix (for numerical features)
plt.figure(figsize=(8, 6))
sns.heatmap(df[numerical_cols].corr(), annot=True, cmap='coolwarm', fmt=".2f")
plt.title('Correlation Matrix')
plt.show()


df.to_csv('/content/drive/MyDrive/Colab Notebooks/datasets/cleaned_student_performance.csv', index=False)



