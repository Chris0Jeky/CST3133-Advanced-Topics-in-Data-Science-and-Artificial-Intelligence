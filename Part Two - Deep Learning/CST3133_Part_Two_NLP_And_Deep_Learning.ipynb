{
 "cells": [
  {
   "cell_type": "markdown",
   "id": "65e29d1c107f5aa",
   "metadata": {},
   "source": [
    "Imports below:"
   ]
  },
  {
   "cell_type": "code",
   "id": "initial_id",
   "metadata": {
    "ExecuteTime": {
     "end_time": "2025-03-25T12:03:12.634927Z",
     "start_time": "2025-03-25T12:03:11.265649Z"
    }
   },
   "source": [
    "import os\n",
    "import re\n",
    "import numpy as np\n",
    "import pandas as pd\n",
    "from collections import Counter\n",
    "import matplotlib.pyplot as plt\n",
    "import nltk\n",
    "nltk.download('punkt')"
   ],
   "outputs": [
    {
     "name": "stderr",
     "output_type": "stream",
     "text": [
      "[nltk_data] Downloading package punkt to\n",
      "[nltk_data]     C:\\Users\\jekyt\\AppData\\Roaming\\nltk_data...\n",
      "[nltk_data]   Package punkt is already up-to-date!\n"
     ]
    },
    {
     "data": {
      "text/plain": [
       "True"
      ]
     },
     "execution_count": 8,
     "metadata": {},
     "output_type": "execute_result"
    }
   ],
   "execution_count": 8
  },
  {
   "cell_type": "markdown",
   "id": "71b4139a66f411f4",
   "metadata": {},
   "source": [
    "Step 1 & 2: Load and Combine Data"
   ]
  },
  {
   "cell_type": "code",
   "id": "8b8db9f5fa47c80e",
   "metadata": {
    "ExecuteTime": {
     "end_time": "2025-03-25T12:03:23.025729Z",
     "start_time": "2025-03-25T12:03:23.022587Z"
    }
   },
   "source": [
    "# Set random seed for reproducibility\n",
    "import random\n",
    "random.seed(42)\n",
    "np.random.seed(42)"
   ],
   "outputs": [],
   "execution_count": 9
  },
  {
   "cell_type": "code",
   "id": "1c7736d17ff0b4bb",
   "metadata": {
    "ExecuteTime": {
     "end_time": "2025-03-25T12:41:46.415274Z",
     "start_time": "2025-03-25T12:41:46.411648Z"
    }
   },
   "source": [
    "# Files are stored in the 'content' folder.\n",
    "fake_path = os.path.join(\"content\", \"Fake.csv\")\n",
    "true_path = os.path.join(\"content\", \"True.csv\")"
   ],
   "outputs": [],
   "execution_count": 10
  },
  {
   "cell_type": "code",
   "id": "d1f61af1fbff4772",
   "metadata": {
    "ExecuteTime": {
     "end_time": "2025-03-25T12:41:48.790247Z",
     "start_time": "2025-03-25T12:41:48.124179Z"
    }
   },
   "source": [
    "fake_df = pd.read_csv(fake_path)\n",
    "true_df = pd.read_csv(true_path)\n",
    "\n",
    "# Add a label column: 0 for fake, 1 for true\n",
    "fake_df['label'] = 0\n",
    "true_df['label'] = 1"
   ],
   "outputs": [],
   "execution_count": 11
  },
  {
   "cell_type": "code",
   "id": "3424a77c6314529f",
   "metadata": {
    "ExecuteTime": {
     "end_time": "2025-03-25T12:41:49.884037Z",
     "start_time": "2025-03-25T12:41:49.872813Z"
    }
   },
   "source": [
    "# Concatenate the DataFrames\n",
    "df = pd.concat([fake_df, true_df], ignore_index=True)\n",
    "\n",
    "# Keep only the necessary columns: title, text, and label.\n",
    "df = df[['title', 'text', 'label']]"
   ],
   "outputs": [],
   "execution_count": 12
  },
  {
   "metadata": {},
   "cell_type": "markdown",
   "source": "3: Data Cleaning and Preprocessing",
   "id": "fa3198f228028d40"
  },
  {
   "metadata": {
    "ExecuteTime": {
     "end_time": "2025-03-25T12:41:51.164452Z",
     "start_time": "2025-03-25T12:41:51.142346Z"
    }
   },
   "cell_type": "code",
   "source": [
    "# Check and drop missing values\n",
    "print(\"Missing values before:\", df.isnull().sum())\n",
    "df.dropna(inplace=True)\n",
    "print(\"Missing values after:\", df.isnull().sum())"
   ],
   "id": "d2aee52544353e28",
   "outputs": [
    {
     "name": "stdout",
     "output_type": "stream",
     "text": [
      "Missing values before: title    0\n",
      "text     0\n",
      "label    0\n",
      "dtype: int64\n",
      "Missing values after: title    0\n",
      "text     0\n",
      "label    0\n",
      "dtype: int64\n"
     ]
    }
   ],
   "execution_count": 13
  },
  {
   "cell_type": "code",
   "id": "d995140498d8c65f",
   "metadata": {
    "ExecuteTime": {
     "end_time": "2025-03-25T12:41:52.792646Z",
     "start_time": "2025-03-25T12:41:52.712399Z"
    }
   },
   "source": [
    "# Create a new column 'combined_text' that concatenates the title and text.\n",
    "df['combined_text'] = df['title'] + ' ' + df['text']"
   ],
   "outputs": [],
   "execution_count": 14
  },
  {
   "cell_type": "code",
   "id": "c5c8d9a0ab534505",
   "metadata": {
    "ExecuteTime": {
     "end_time": "2025-03-25T12:41:59.421762Z",
     "start_time": "2025-03-25T12:41:54.246699Z"
    }
   },
   "source": [
    "# --- Text Cleaning Function ---\n",
    "def clean_text(text):\n",
    "    text = text.lower()  # Convert to lowercase\n",
    "    text = re.sub(r'[^\\w\\s]', '', text)  # Remove punctuation and special characters\n",
    "    text = re.sub(r'\\d+', '', text)  # Remove numbers\n",
    "    text = re.sub(r'\\s+', ' ', text).strip()  # Remove extra spaces\n",
    "    return text\n",
    "\n",
    "df['combined_text'] = df['combined_text'].apply(clean_text)"
   ],
   "outputs": [],
   "execution_count": 15
  },
  {
   "cell_type": "markdown",
   "id": "f8b0aa1620731078",
   "metadata": {},
   "source": [
    "Step 4: Tokenization"
   ]
  },
  {
   "cell_type": "code",
   "id": "5861eb7db1b0b61f",
   "metadata": {
    "ExecuteTime": {
     "end_time": "2025-03-25T12:42:02.556229Z",
     "start_time": "2025-03-25T12:42:01.490265Z"
    }
   },
   "source": [
    "# We use a simple whitespace split. (Alternatively, nltk.word_tokenize can be used)\n",
    "def tokenize(text):\n",
    "    return text.split()\n",
    "\n",
    "df['tokens'] = df['combined_text'].apply(tokenize)"
   ],
   "outputs": [],
   "execution_count": 16
  },
  {
   "metadata": {},
   "cell_type": "markdown",
   "source": "Build Vocabulary",
   "id": "195ceda9a72349c8"
  },
  {
   "metadata": {
    "ExecuteTime": {
     "end_time": "2025-03-25T12:42:06.252874Z",
     "start_time": "2025-03-25T12:42:04.530345Z"
    }
   },
   "cell_type": "code",
   "source": [
    "MAX_VOCAB_SIZE = 20000  # Limit vocabulary size\n",
    "counter = Counter([word for tokens in df['tokens'] for word in tokens])\n",
    "most_common = counter.most_common(MAX_VOCAB_SIZE - 2)  # Reserve indices for <PAD> and <UNK>"
   ],
   "id": "8bc4018a047e0fc2",
   "outputs": [],
   "execution_count": 17
  },
  {
   "cell_type": "markdown",
   "id": "1bbe5a6375666215",
   "metadata": {},
   "source": "5: Create a word-to-index mapping. Reserve index 0 for padding, 1 for OOV."
  },
  {
   "cell_type": "code",
   "id": "71a729f9340138a9",
   "metadata": {
    "ExecuteTime": {
     "end_time": "2025-03-25T12:42:07.893099Z",
     "start_time": "2025-03-25T12:42:07.886024Z"
    }
   },
   "source": [
    "word2idx = {\"<PAD>\": 0, \"<UNK>\": 1}\n",
    "for idx, (word, _) in enumerate(most_common, start=2):\n",
    "    word2idx[word] = idx"
   ],
   "outputs": [],
   "execution_count": 18
  },
  {
   "cell_type": "markdown",
   "id": "59983f2ba027afa8",
   "metadata": {},
   "source": "Convert Tokens to Sequences"
  },
  {
   "cell_type": "code",
   "id": "9b5d2c0cec9af9e0",
   "metadata": {
    "ExecuteTime": {
     "end_time": "2025-03-25T12:42:10.959986Z",
     "start_time": "2025-03-25T12:42:09.462716Z"
    }
   },
   "source": [
    "def tokens_to_sequence(tokens, word2idx):\n",
    "    return [word2idx.get(word, word2idx[\"<UNK>\"]) for word in tokens]\n",
    "\n",
    "df['sequence'] = df['tokens'].apply(lambda x: tokens_to_sequence(x, word2idx))\n"
   ],
   "outputs": [],
   "execution_count": 19
  },
  {
   "metadata": {},
   "cell_type": "markdown",
   "source": "Padding Sequences",
   "id": "390a59cf2dbb931e"
  },
  {
   "metadata": {
    "ExecuteTime": {
     "end_time": "2025-03-25T12:42:12.070255Z",
     "start_time": "2025-03-25T12:42:11.685698Z"
    }
   },
   "cell_type": "code",
   "source": [
    "MAX_SEQUENCE_LENGTH = 200  # Adjust this value based on distribution or experimentation\n",
    "\n",
    "def pad_sequence(seq, max_len):\n",
    "    if len(seq) < max_len:\n",
    "        return seq + [0] * (max_len - len(seq))\n",
    "    else:\n",
    "        return seq[:max_len]\n",
    "\n",
    "df['padded_seq'] = df['sequence'].apply(lambda x: pad_sequence(x, MAX_SEQUENCE_LENGTH))"
   ],
   "id": "a220e46cd2226a12",
   "outputs": [],
   "execution_count": 20
  },
  {
   "metadata": {
    "ExecuteTime": {
     "end_time": "2025-03-25T12:42:13.653421Z",
     "start_time": "2025-03-25T12:42:13.387911Z"
    }
   },
   "cell_type": "code",
   "source": [
    "# Prepare features and labels\n",
    "X = np.array(df['padded_seq'].tolist())\n",
    "y = df['label'].values\n",
    "\n",
    "print(\"Feature shape:\", X.shape)\n",
    "print(\"Labels shape:\", y.shape)"
   ],
   "id": "224c6870b99e2799",
   "outputs": [
    {
     "name": "stdout",
     "output_type": "stream",
     "text": [
      "Feature shape: (44898, 200)\n",
      "Labels shape: (44898,)\n"
     ]
    }
   ],
   "execution_count": 21
  },
  {
   "cell_type": "markdown",
   "id": "81fa13fd37f9b3be",
   "metadata": {},
   "source": [
    "Step 6: Pre-trained Embeddings (GloVe)"
   ]
  },
  {
   "cell_type": "code",
   "id": "82e102024c52def8",
   "metadata": {
    "ExecuteTime": {
     "end_time": "2025-03-25T12:47:12.982925Z",
     "start_time": "2025-03-25T12:47:05.855376Z"
    }
   },
   "source": [
    "import os\n",
    "import re\n",
    "import numpy as np\n",
    "import pandas as pd\n",
    "from collections import Counter\n",
    "import matplotlib.pyplot as plt\n",
    "import nltk\n",
    "\n",
    "EMBEDDING_DIM = 100  # Dimensionality of the GloVe embeddings\n",
    "GLOVE_DIR = 'glove.6B' #  Create a folder named 'glove.6B' in the 'content' directory. Place glove.6B.100d.txt inside it.\n",
    "embeddings_index = {}\n",
    "\n",
    "try:\n",
    "    with open(os.path.join('content', GLOVE_DIR, 'glove.6B.100d.txt'), encoding='utf-8') as f:\n",
    "        for line in f:\n",
    "            values = line.split()\n",
    "            word = values[0]\n",
    "            coefs = np.asarray(values[1:], dtype='float32')\n",
    "            embeddings_index[word] = coefs\n",
    "except FileNotFoundError:\n",
    "    print(\"GloVe file not found. Please download 'glove.6B.zip' from https://nlp.stanford.edu/projects/glove/,\")\n",
    "    print(\"extract it, and place 'glove.6B.100d.txt' in a folder named 'glove.6B' inside the 'content' directory.\")\n",
    "    exit() # Stop execution if the file is not found.\n",
    "\n",
    "print('Found %s word vectors.' % len(embeddings_index))"
   ],
   "outputs": [
    {
     "name": "stdout",
     "output_type": "stream",
     "text": [
      "Found 400000 word vectors.\n"
     ]
    }
   ],
   "execution_count": 4
  },
  {
   "cell_type": "code",
   "id": "46ccbdea2d975fdc",
   "metadata": {
    "ExecuteTime": {
     "end_time": "2025-03-25T12:47:21.864083Z",
     "start_time": "2025-03-25T12:47:16.004844Z"
    }
   },
   "source": [
    "# Prepare embedding matrix\n",
    "EMBEDDING_DIM = 100  # Using 100d embeddings\n",
    "GLOVE_DIR = os.path.join(\"content\", \"glove.6B\")  # Ensure 'glove.6B.100d.txt' is in this folder\n",
    "\n",
    "embeddings_index = {}\n",
    "\n",
    "glove_file = os.path.join(GLOVE_DIR, \"glove.6B.100d.txt\")\n",
    "try:\n",
    "    with open(glove_file, encoding=\"utf8\") as f:\n",
    "        for line in f:\n",
    "            values = line.split()\n",
    "            word = values[0]\n",
    "            vector = np.asarray(values[1:], dtype='float32')\n",
    "            embeddings_index[word] = vector\n",
    "    print(\"Found %d word vectors in GloVe.\" % len(embeddings_index))\n",
    "except FileNotFoundError:\n",
    "    print(\"GloVe file not found. Please download it and place it in:\", GLOVE_DIR)\n",
    "    exit()"
   ],
   "outputs": [
    {
     "name": "stdout",
     "output_type": "stream",
     "text": [
      "Found 400000 word vectors in GloVe.\n"
     ]
    }
   ],
   "execution_count": 5
  },
  {
   "metadata": {
    "ExecuteTime": {
     "end_time": "2025-03-25T12:47:25.710081Z",
     "start_time": "2025-03-25T12:47:23.626455Z"
    }
   },
   "cell_type": "code",
   "source": [
    "import torch\n",
    "import torch.nn as nn\n",
    "from torch.utils.data import Dataset, DataLoader\n",
    "from sklearn.model_selection import train_test_split"
   ],
   "id": "8106483b03457d1f",
   "outputs": [],
   "execution_count": 6
  },
  {
   "metadata": {},
   "cell_type": "markdown",
   "source": "Create a Custom Dataset",
   "id": "dfdffab31d05c305"
  },
  {
   "metadata": {
    "ExecuteTime": {
     "end_time": "2025-03-25T12:47:28.315763Z",
     "start_time": "2025-03-25T12:47:28.312746Z"
    }
   },
   "cell_type": "code",
   "source": [
    "class FakeNewsClassifierLSTM(nn.Module):\n",
    "    def __init__(self, vocab_size, embedding_dim, hidden_dim, output_dim, n_layers,\n",
    "                 dropout_prob, embedding_matrix, trainable_embedding=False):\n",
    "        \"\"\"\n",
    "        Args:\n",
    "            vocab_size (int): Size of the vocabulary.\n",
    "            embedding_dim (int): Dimension of the word embeddings.\n",
    "            hidden_dim (int): Dimension of the LSTM hidden state.\n",
    "            output_dim (int): Dimension of the output (1 for binary classification).\n",
    "            n_layers (int): Number of LSTM layers.\n",
    "            dropout_prob (float): Dropout probability.\n",
    "            embedding_matrix (np.array): Pre-trained embedding weights.\n",
    "            trainable_embedding (bool): Whether the embedding layer weights should be trained.\n",
    "        \"\"\"\n",
    "        super(FakeNewsClassifierLSTM, self).__init__()\n",
    "        self.n_layers = n_layers\n",
    "        self.hidden_dim = hidden_dim\n",
    "\n",
    "        # 1. Embedding Layer\n",
    "        self.embedding = nn.Embedding(vocab_size, embedding_dim, padding_idx=0)\n",
    "        # Load pre-trained embeddings\n",
    "        self.embedding.weight.data.copy_(torch.tensor(embedding_matrix, dtype=torch.float32))\n",
    "        self.embedding.weight.requires_grad = trainable_embedding\n",
    "\n",
    "        # 2. LSTM Layer(s)\n",
    "        # Only apply internal dropout if n_layers > 1\n",
    "        self.lstm = nn.LSTM(embedding_dim,\n",
    "                            hidden_dim,\n",
    "                            num_layers=n_layers,\n",
    "                            dropout=dropout_prob if n_layers > 1 else 0,\n",
    "                            batch_first=True,\n",
    "                            bidirectional=False)\n",
    "\n",
    "        # 3. Dropout Layer (applied after LSTM)\n",
    "        self.dropout = nn.Dropout(dropout_prob)\n",
    "\n",
    "        # 4. Dense Layer\n",
    "        self.fc = nn.Linear(hidden_dim, output_dim)\n",
    "\n",
    "        # 5. Output Layer Activation\n",
    "        self.sigmoid = nn.Sigmoid()\n",
    "\n",
    "    def forward(self, x):\n",
    "        # x shape: (batch_size, seq_length)\n",
    "        embedded = self.embedding(x)  # (batch_size, seq_length, embedding_dim)\n",
    "        lstm_out, (hidden, cell) = self.lstm(embedded)\n",
    "        # Get last hidden state from the last LSTM layer\n",
    "        last_hidden_state = hidden[-1]  # (batch_size, hidden_dim)\n",
    "        out = self.dropout(last_hidden_state)\n",
    "        out = self.fc(out)\n",
    "        return self.sigmoid(out).squeeze()  # Squeeze to match shape for loss"
   ],
   "id": "78c127a7a7a40987",
   "outputs": [],
   "execution_count": 7
  },
  {
   "metadata": {},
   "cell_type": "markdown",
   "source": "Split into training and testing sets",
   "id": "5f7572c25e6a507"
  },
  {
   "metadata": {
    "ExecuteTime": {
     "end_time": "2025-03-25T12:47:30.439476Z",
     "start_time": "2025-03-25T12:47:30.408642Z"
    }
   },
   "cell_type": "code",
   "source": [
    "# Split into training and testing sets\n",
    "# Split into training and testing sets\n",
    "X_train, X_test, y_train, y_test = train_test_split(X, y, test_size=0.2, random_state=42)\n",
    "\n",
    "train_dataset = NewsDataset(X_train, y_train)\n",
    "test_dataset = NewsDataset(X_test, y_test)\n",
    "\n",
    "BATCH_SIZE = 128\n",
    "train_loader = DataLoader(train_dataset, batch_size=BATCH_SIZE, shuffle=True)\n",
    "test_loader = DataLoader(test_dataset, batch_size=BATCH_SIZE)"
   ],
   "id": "99e95682474d0b65",
   "outputs": [
    {
     "ename": "NameError",
     "evalue": "name 'X' is not defined",
     "output_type": "error",
     "traceback": [
      "\u001B[1;31m---------------------------------------------------------------------------\u001B[0m",
      "\u001B[1;31mNameError\u001B[0m                                 Traceback (most recent call last)",
      "Cell \u001B[1;32mIn[8], line 2\u001B[0m\n\u001B[0;32m      1\u001B[0m \u001B[38;5;66;03m# Split into training and testing sets\u001B[39;00m\n\u001B[1;32m----> 2\u001B[0m X_train, X_test, y_train, y_test \u001B[38;5;241m=\u001B[39m train_test_split(X, y, test_size\u001B[38;5;241m=\u001B[39m\u001B[38;5;241m0.2\u001B[39m, random_state\u001B[38;5;241m=\u001B[39m\u001B[38;5;241m42\u001B[39m)\n\u001B[0;32m      4\u001B[0m train_dataset \u001B[38;5;241m=\u001B[39m NewsDataset(X_train, y_train)\n\u001B[0;32m      5\u001B[0m test_dataset \u001B[38;5;241m=\u001B[39m NewsDataset(X_test, y_test)\n",
      "\u001B[1;31mNameError\u001B[0m: name 'X' is not defined"
     ]
    }
   ],
   "execution_count": 8
  },
  {
   "metadata": {},
   "cell_type": "markdown",
   "source": "Define the LSTM Model",
   "id": "ae6123493f6455d0"
  },
  {
   "metadata": {},
   "cell_type": "code",
   "outputs": [],
   "execution_count": null,
   "source": [
    "class FakeNewsClassifier(nn.Module):\n",
    "    def __init__(self, vocab_size, embedding_dim, hidden_dim, output_dim, embedding_matrix, trainable=False):\n",
    "        super(FakeNewsClassifier, self).__init__()\n",
    "        self.embedding = nn.Embedding(vocab_size, embedding_dim, padding_idx=0)\n",
    "        # Load pre-trained embeddings\n",
    "        self.embedding.weight.data.copy_(torch.tensor(embedding_matrix, dtype=torch.float32))\n",
    "        self.embedding.weight.requires_grad = trainable  # Freeze or fine-tune embeddings\n",
    "        self.lstm = nn.LSTM(embedding_dim, hidden_dim, batch_first=True, dropout=0.2)\n",
    "        self.dropout = nn.Dropout(0.3)\n",
    "        self.fc = nn.Linear(hidden_dim, output_dim)\n",
    "        self.sigmoid = nn.Sigmoid()\n",
    "\n",
    "    def forward(self, x):\n",
    "        # x: [batch_size, sequence_length]\n",
    "        embedded = self.embedding(x)  # [batch_size, sequence_length, embedding_dim]\n",
    "        lstm_out, (hidden, cell) = self.lstm(embedded)\n",
    "        # Use the last hidden state as representation\n",
    "        hidden = self.dropout(hidden[-1])  # [batch_size, hidden_dim]\n",
    "        out = self.fc(hidden)\n",
    "        return self.sigmoid(out)\n",
    "\n",
    "HIDDEN_DIM = 128\n",
    "OUTPUT_DIM = 1\n",
    "\n",
    "model = FakeNewsClassifier(vocab_size=vocab_size,\n",
    "                           embedding_dim=EMBEDDING_DIM,\n",
    "                           hidden_dim=HIDDEN_DIM,\n",
    "                           output_dim=OUTPUT_DIM,\n",
    "                           embedding_matrix=embedding_matrix,\n",
    "                           trainable=False)\n",
    "\n",
    "print(model)"
   ],
   "id": "17c77639d4dee00f"
  }
 ],
 "metadata": {
  "kernelspec": {
   "display_name": "Python 3 (ipykernel)",
   "language": "python",
   "name": "python3"
  },
  "language_info": {
   "codemirror_mode": {
    "name": "ipython",
    "version": 3
   },
   "file_extension": ".py",
   "mimetype": "text/x-python",
   "name": "python",
   "nbconvert_exporter": "python",
   "pygments_lexer": "ipython3",
   "version": "3.12.7"
  }
 },
 "nbformat": 4,
 "nbformat_minor": 5
}
