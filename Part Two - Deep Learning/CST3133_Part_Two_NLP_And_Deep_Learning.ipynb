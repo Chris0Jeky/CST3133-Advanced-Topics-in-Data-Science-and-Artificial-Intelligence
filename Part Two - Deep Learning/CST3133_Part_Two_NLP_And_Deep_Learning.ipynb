{
 "cells": [
  {
   "cell_type": "markdown",
   "id": "65e29d1c107f5aa",
   "metadata": {},
   "source": [
    "Imports below:"
   ]
  },
  {
   "cell_type": "code",
   "id": "initial_id",
   "metadata": {
    "jupyter": {
     "is_executing": true
    }
   },
   "source": [
    "import os\n",
    "import re\n",
    "import numpy as np\n",
    "import pandas as pd\n",
    "from collections import Counter\n",
    "import matplotlib.pyplot as plt\n",
    "import nltk\n",
    "nltk.download('punkt')"
   ],
   "outputs": [],
   "execution_count": null
  },
  {
   "cell_type": "markdown",
   "id": "71b4139a66f411f4",
   "metadata": {},
   "source": [
    "Step 1 & 2: Load and Combine Data"
   ]
  },
  {
   "cell_type": "code",
   "execution_count": 4,
   "id": "8b8db9f5fa47c80e",
   "metadata": {},
   "outputs": [],
   "source": [
    "# Set random seed for reproducibility\n",
    "import random\n",
    "random.seed(42)\n",
    "np.random.seed(42)"
   ]
  },
  {
   "cell_type": "code",
   "execution_count": 6,
   "id": "1c7736d17ff0b4bb",
   "metadata": {},
   "outputs": [],
   "source": [
    "# --- Load Data ---\n",
    "# Files are stored in the 'content' folder.\n",
    "fake_path = os.path.join(\"content\", \"Fake.csv\")\n",
    "true_path = os.path.join(\"content\", \"True.csv\")"
   ]
  },
  {
   "cell_type": "code",
   "execution_count": 8,
   "id": "d1f61af1fbff4772",
   "metadata": {},
   "outputs": [],
   "source": [
    "fake_df = pd.read_csv(fake_path)\n",
    "true_df = pd.read_csv(true_path)\n",
    "\n",
    "# Add a label column: 0 for fake, 1 for true\n",
    "fake_df['label'] = 0\n",
    "true_df['label'] = 1"
   ]
  },
  {
   "cell_type": "code",
   "execution_count": 10,
   "id": "3424a77c6314529f",
   "metadata": {},
   "outputs": [],
   "source": [
    "# Concatenate the DataFrames\n",
    "df = pd.concat([fake_df, true_df], ignore_index=True)\n",
    "\n",
    "# Keep only the necessary columns: title, text, and label.\n",
    "df = df[['title', 'text', 'label']]"
   ]
  },
  {
   "metadata": {},
   "cell_type": "markdown",
   "source": "3: Data Cleaning and Preprocessing",
   "id": "fa3198f228028d40"
  },
  {
   "cell_type": "code",
   "execution_count": 12,
   "id": "d995140498d8c65f",
   "metadata": {},
   "outputs": [
    {
     "name": "stdout",
     "output_type": "stream",
     "text": [
      "Number of missing values before handling:\n",
      " title    0\n",
      "text     0\n",
      "label    0\n",
      "dtype: int64\n",
      "Number of missing values after handling:\n",
      " title    0\n",
      "text     0\n",
      "label    0\n",
      "dtype: int64\n"
     ]
    }
   ],
   "source": [
    "# Create a new column 'combined_text' that concatenates the title and text.\n",
    "df['combined_text'] = df['title'] + ' ' + df['text']"
   ]
  },
  {
   "cell_type": "code",
   "execution_count": 14,
   "id": "c5c8d9a0ab534505",
   "metadata": {},
   "outputs": [],
   "source": [
    "# --- Text Cleaning Function ---\n",
    "def clean_text(text):\n",
    "    text = text.lower()  # Convert to lowercase\n",
    "    text = re.sub(r'[^\\w\\s]', '', text)  # Remove punctuation and special characters\n",
    "    text = re.sub(r'\\d+', '', text)  # Remove numbers\n",
    "    text = re.sub(r'\\s+', ' ', text).strip()  # Remove extra spaces\n",
    "    return text\n",
    "\n",
    "df['combined_text'] = df['combined_text'].apply(clean_text)"
   ]
  },
  {
   "cell_type": "markdown",
   "id": "f8b0aa1620731078",
   "metadata": {},
   "source": [
    "Step 4: Tokenization"
   ]
  },
  {
   "cell_type": "code",
   "execution_count": 15,
   "id": "5861eb7db1b0b61f",
   "metadata": {},
   "outputs": [],
   "source": [
    "# We use a simple whitespace split. (Alternatively, nltk.word_tokenize can be used)\n",
    "def tokenize(text):\n",
    "    return text.split()\n",
    "\n",
    "df['tokens'] = df['combined_text'].apply(tokenize)"
   ]
  },
  {
   "metadata": {},
   "cell_type": "markdown",
   "source": "Build Vocabulary",
   "id": "195ceda9a72349c8"
  },
  {
   "metadata": {},
   "cell_type": "code",
   "outputs": [],
   "execution_count": null,
   "source": [
    "MAX_VOCAB_SIZE = 20000  # Limit vocabulary size\n",
    "counter = Counter([word for tokens in df['tokens'] for word in tokens])\n",
    "most_common = counter.most_common(MAX_VOCAB_SIZE - 2)  # Reserve indices for <PAD> and <UNK>"
   ],
   "id": "8bc4018a047e0fc2"
  },
  {
   "cell_type": "markdown",
   "id": "1bbe5a6375666215",
   "metadata": {},
   "source": "5: Create a word-to-index mapping. Reserve index 0 for padding, 1 for OOV."
  },
  {
   "cell_type": "code",
   "execution_count": 17,
   "id": "71a729f9340138a9",
   "metadata": {},
   "outputs": [],
   "source": [
    "word2idx = {\"<PAD>\": 0, \"<UNK>\": 1}\n",
    "for idx, (word, _) in enumerate(most_common, start=2):\n",
    "    word2idx[word] = idx"
   ]
  },
  {
   "cell_type": "markdown",
   "id": "59983f2ba027afa8",
   "metadata": {},
   "source": "Convert Tokens to Sequences"
  },
  {
   "cell_type": "code",
   "execution_count": 18,
   "id": "9b5d2c0cec9af9e0",
   "metadata": {},
   "outputs": [
    {
     "name": "stdout",
     "output_type": "stream",
     "text": [
      "Shape of x_train: (35918, 200)\n",
      "Shape of y_train: (35918,)\n",
      "Shape of x_test: (8980, 200)\n",
      "Shape of y_test: (8980,)\n"
     ]
    }
   ],
   "source": [
    "def tokens_to_sequence(tokens, word2idx):\n",
    "    return [word2idx.get(word, word2idx[\"<UNK>\"]) for word in tokens]\n",
    "\n",
    "df['sequence'] = df['tokens'].apply(lambda x: tokens_to_sequence(x, word2idx))\n"
   ]
  },
  {
   "metadata": {},
   "cell_type": "markdown",
   "source": "Padding Sequences",
   "id": "390a59cf2dbb931e"
  },
  {
   "metadata": {},
   "cell_type": "code",
   "outputs": [],
   "execution_count": null,
   "source": [
    "MAX_SEQUENCE_LENGTH = 200  # Adjust this value based on distribution or experimentation\n",
    "\n",
    "def pad_sequence(seq, max_len):\n",
    "    if len(seq) < max_len:\n",
    "        return seq + [0] * (max_len - len(seq))\n",
    "    else:\n",
    "        return seq[:max_len]\n",
    "\n",
    "df['padded_seq'] = df['sequence'].apply(lambda x: pad_sequence(x, MAX_SEQUENCE_LENGTH))"
   ],
   "id": "a220e46cd2226a12"
  },
  {
   "metadata": {},
   "cell_type": "code",
   "outputs": [],
   "execution_count": null,
   "source": [
    "X = np.array(df['padded_seq'].tolist())\n",
    "y = df['label'].values\n",
    "\n",
    "print(\"Feature shape:\", X.shape)\n",
    "print(\"Labels shape:\", y.shape)"
   ],
   "id": "224c6870b99e2799"
  },
  {
   "cell_type": "markdown",
   "id": "81fa13fd37f9b3be",
   "metadata": {},
   "source": [
    "Step 6: Pre-trained Embeddings (GloVe)"
   ]
  },
  {
   "cell_type": "code",
   "execution_count": 1,
   "id": "82e102024c52def8",
   "metadata": {
    "ExecuteTime": {
     "end_time": "2025-03-24T03:48:37.687095Z",
     "start_time": "2025-03-24T03:48:37.414541Z"
    }
   },
   "outputs": [
    {
     "ename": "NameError",
     "evalue": "name 'os' is not defined",
     "output_type": "error",
     "traceback": [
      "\u001B[1;31m---------------------------------------------------------------------------\u001B[0m",
      "\u001B[1;31mNameError\u001B[0m                                 Traceback (most recent call last)",
      "Cell \u001B[1;32mIn[1], line 6\u001B[0m\n\u001B[0;32m      3\u001B[0m embeddings_index \u001B[38;5;241m=\u001B[39m {}\n\u001B[0;32m      5\u001B[0m \u001B[38;5;28;01mtry\u001B[39;00m:\n\u001B[1;32m----> 6\u001B[0m     \u001B[38;5;28;01mwith\u001B[39;00m \u001B[38;5;28mopen\u001B[39m(os\u001B[38;5;241m.\u001B[39mpath\u001B[38;5;241m.\u001B[39mjoin(\u001B[38;5;124m'\u001B[39m\u001B[38;5;124mcontent\u001B[39m\u001B[38;5;124m'\u001B[39m, GLOVE_DIR, \u001B[38;5;124m'\u001B[39m\u001B[38;5;124mglove.6B.100d.txt\u001B[39m\u001B[38;5;124m'\u001B[39m), encoding\u001B[38;5;241m=\u001B[39m\u001B[38;5;124m'\u001B[39m\u001B[38;5;124mutf-8\u001B[39m\u001B[38;5;124m'\u001B[39m) \u001B[38;5;28;01mas\u001B[39;00m f:\n\u001B[0;32m      7\u001B[0m         \u001B[38;5;28;01mfor\u001B[39;00m line \u001B[38;5;129;01min\u001B[39;00m f:\n\u001B[0;32m      8\u001B[0m             values \u001B[38;5;241m=\u001B[39m line\u001B[38;5;241m.\u001B[39msplit()\n",
      "\u001B[1;31mNameError\u001B[0m: name 'os' is not defined"
     ]
    }
   ],
   "source": [
    "EMBEDDING_DIM = 100  # Dimensionality of the GloVe embeddings\n",
    "GLOVE_DIR = 'glove.6B' #  Create a folder named 'glove.6B' in the 'content' directory. Place glove.6B.100d.txt inside it.\n",
    "embeddings_index = {}\n",
    "\n",
    "try:\n",
    "    with open(os.path.join('content', GLOVE_DIR, 'glove.6B.100d.txt'), encoding='utf-8') as f:\n",
    "        for line in f:\n",
    "            values = line.split()\n",
    "            word = values[0]\n",
    "            coefs = np.asarray(values[1:], dtype='float32')\n",
    "            embeddings_index[word] = coefs\n",
    "except FileNotFoundError:\n",
    "    print(\"GloVe file not found. Please download 'glove.6B.zip' from https://nlp.stanford.edu/projects/glove/,\")\n",
    "    print(\"extract it, and place 'glove.6B.100d.txt' in a folder named 'glove.6B' inside the 'content' directory.\")\n",
    "    exit() # Stop execution if the file is not found.\n",
    "\n",
    "print('Found %s word vectors.' % len(embeddings_index))"
   ]
  },
  {
   "cell_type": "code",
   "execution_count": 20,
   "id": "46ccbdea2d975fdc",
   "metadata": {},
   "outputs": [
    {
     "name": "stdout",
     "output_type": "stream",
     "text": [
      "Embedding matrix shape: (20000, 100)\n"
     ]
    }
   ],
   "source": [
    "# Prepare embedding matrix\n",
    "word_index = tokenizer.word_index\n",
    "num_words = min(MAX_VOCAB_SIZE, len(word_index) + 1)\n",
    "embedding_matrix = np.zeros((num_words, EMBEDDING_DIM))\n",
    "\n",
    "for word, i in word_index.items():\n",
    "    if i >= MAX_VOCAB_SIZE:\n",
    "        continue\n",
    "    embedding_vector = embeddings_index.get(word)\n",
    "    if embedding_vector is not None:\n",
    "        # Words not found in the embedding index will be all zeros.\n",
    "        embedding_matrix[i] = embedding_vector\n",
    "\n",
    "\n",
    "print(\"Embedding matrix shape:\", embedding_matrix.shape)"
   ]
  },
  {
   "metadata": {},
   "cell_type": "code",
   "outputs": [],
   "execution_count": null,
   "source": [
    "import torch\n",
    "import torch.nn as nn\n",
    "from torch.utils.data import Dataset, DataLoader\n",
    "from sklearn.model_selection import train_test_split"
   ],
   "id": "8106483b03457d1f"
  },
  {
   "metadata": {},
   "cell_type": "markdown",
   "source": "Create a Custom Dataset",
   "id": "dfdffab31d05c305"
  },
  {
   "metadata": {},
   "cell_type": "code",
   "outputs": [],
   "execution_count": null,
   "source": [
    "class NewsDataset(Dataset):\n",
    "    def __init__(self, X, y):\n",
    "        self.X = torch.tensor(X, dtype=torch.long)\n",
    "        self.y = torch.tensor(y, dtype=torch.float32)\n",
    "\n",
    "    def __len__(self):\n",
    "        return len(self.y)\n",
    "\n",
    "    def __getitem__(self, idx):\n",
    "        return self.X[idx], self.y[idx]"
   ],
   "id": "78c127a7a7a40987"
  },
  {
   "metadata": {},
   "cell_type": "markdown",
   "source": "Split into training and testing sets",
   "id": "5f7572c25e6a507"
  },
  {
   "metadata": {},
   "cell_type": "code",
   "outputs": [],
   "execution_count": null,
   "source": [
    "X_train, X_test, y_train, y_test = train_test_split(X, y, test_size=0.2, random_state=42)\n",
    "\n",
    "train_dataset = NewsDataset(X_train, y_train)\n",
    "test_dataset = NewsDataset(X_test, y_test)\n",
    "\n",
    "BATCH_SIZE = 128\n",
    "train_loader = DataLoader(train_dataset, batch_size=BATCH_SIZE, shuffle=True)\n",
    "test_loader = DataLoader(test_dataset, batch_size=BATCH_SIZE)"
   ],
   "id": "99e95682474d0b65"
  },
  {
   "metadata": {},
   "cell_type": "markdown",
   "source": "Define the LSTM Model",
   "id": "ae6123493f6455d0"
  },
  {
   "metadata": {},
   "cell_type": "code",
   "outputs": [],
   "execution_count": null,
   "source": [
    "class FakeNewsClassifier(nn.Module):\n",
    "    def __init__(self, vocab_size, embedding_dim, hidden_dim, output_dim, embedding_matrix, trainable=False):\n",
    "        super(FakeNewsClassifier, self).__init__()\n",
    "        self.embedding = nn.Embedding(vocab_size, embedding_dim, padding_idx=0)\n",
    "        # Load pre-trained embeddings\n",
    "        self.embedding.weight.data.copy_(torch.tensor(embedding_matrix, dtype=torch.float32))\n",
    "        self.embedding.weight.requires_grad = trainable  # Freeze or fine-tune embeddings\n",
    "        self.lstm = nn.LSTM(embedding_dim, hidden_dim, batch_first=True, dropout=0.2)\n",
    "        self.dropout = nn.Dropout(0.3)\n",
    "        self.fc = nn.Linear(hidden_dim, output_dim)\n",
    "        self.sigmoid = nn.Sigmoid()\n",
    "\n",
    "    def forward(self, x):\n",
    "        # x: [batch_size, sequence_length]\n",
    "        embedded = self.embedding(x)  # [batch_size, sequence_length, embedding_dim]\n",
    "        lstm_out, (hidden, cell) = self.lstm(embedded)\n",
    "        # Use the last hidden state as representation\n",
    "        hidden = self.dropout(hidden[-1])  # [batch_size, hidden_dim]\n",
    "        out = self.fc(hidden)\n",
    "        return self.sigmoid(out)\n",
    "\n",
    "HIDDEN_DIM = 128\n",
    "OUTPUT_DIM = 1\n",
    "\n",
    "model = FakeNewsClassifier(vocab_size=vocab_size,\n",
    "                           embedding_dim=EMBEDDING_DIM,\n",
    "                           hidden_dim=HIDDEN_DIM,\n",
    "                           output_dim=OUTPUT_DIM,\n",
    "                           embedding_matrix=embedding_matrix,\n",
    "                           trainable=False)\n",
    "\n",
    "print(model)"
   ],
   "id": "17c77639d4dee00f"
  }
 ],
 "metadata": {
  "kernelspec": {
   "display_name": "Python 3 (ipykernel)",
   "language": "python",
   "name": "python3"
  },
  "language_info": {
   "codemirror_mode": {
    "name": "ipython",
    "version": 3
   },
   "file_extension": ".py",
   "mimetype": "text/x-python",
   "name": "python",
   "nbconvert_exporter": "python",
   "pygments_lexer": "ipython3",
   "version": "3.12.7"
  }
 },
 "nbformat": 4,
 "nbformat_minor": 5
}
