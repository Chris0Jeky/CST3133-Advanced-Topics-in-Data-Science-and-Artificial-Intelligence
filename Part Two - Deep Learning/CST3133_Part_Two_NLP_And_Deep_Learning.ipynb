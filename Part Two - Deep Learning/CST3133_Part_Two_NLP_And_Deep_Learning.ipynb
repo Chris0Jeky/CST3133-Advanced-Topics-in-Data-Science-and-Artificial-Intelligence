{
 "cells": [
  {
   "cell_type": "markdown",
   "id": "65e29d1c107f5aa",
   "metadata": {},
   "source": [
    "Imports below:"
   ]
  },
  {
   "cell_type": "code",
   "execution_count": 1,
   "id": "initial_id",
   "metadata": {
    "jupyter": {
     "is_executing": true
    }
   },
   "outputs": [],
   "source": [
    "# Imports\n",
    "import os\n",
    "import pandas as pd\n",
    "import numpy as np\n",
    "import re\n",
    "from tensorflow.keras.preprocessing.text import Tokenizer\n",
    "from tensorflow.keras.preprocessing.sequence import pad_sequences\n",
    "from sklearn.model_selection import train_test_split"
   ]
  },
  {
   "cell_type": "markdown",
   "id": "71b4139a66f411f4",
   "metadata": {},
   "source": [
    "Step 1 & 2: Load and Combine Data"
   ]
  },
  {
   "cell_type": "code",
   "execution_count": 3,
   "id": "8b8db9f5fa47c80e",
   "metadata": {},
   "outputs": [],
   "source": [
    "# Define the paths to your data files\n",
    "fake_news_path = os.path.join(\"content\", \"Fake.csv\")\n",
    "true_news_path = os.path.join(\"content\", \"True.csv\")"
   ]
  },
  {
   "cell_type": "code",
   "execution_count": 5,
   "id": "1c7736d17ff0b4bb",
   "metadata": {},
   "outputs": [],
   "source": [
    "# Load the data into pandas DataFrames\n",
    "fake_df = pd.read_csv(fake_news_path)\n",
    "true_df = pd.read_csv(true_news_path)"
   ]
  },
  {
   "metadata": {},
   "cell_type": "code",
   "outputs": [],
   "execution_count": null,
   "source": [
    "# Add a 'label' column (0 for fake, 1 for real)\n",
    "fake_df['label'] = 0\n",
    "true_df['label'] = 1"
   ],
   "id": "d1f61af1fbff4772"
  },
  {
   "metadata": {},
   "cell_type": "code",
   "outputs": [],
   "execution_count": null,
   "source": [
    "# Concatenate the DataFrames\n",
    "news_df = pd.concat([fake_df, true_df], ignore_index=True)"
   ],
   "id": "3424a77c6314529f"
  },
  {
   "metadata": {},
   "cell_type": "markdown",
   "source": "Step 3: Data Cleaning",
   "id": "fcbf06c1d0826d54"
  },
  {
   "metadata": {},
   "cell_type": "code",
   "outputs": [],
   "execution_count": null,
   "source": [
    "# Remove unnecessary columns\n",
    "news_df = news_df[['title', 'text', 'label']]\n",
    "\n",
    "# Handle missing values (if any) - Check and remove rows\n",
    "print(\"Number of missing values before handling:\\n\", news_df.isnull().sum())\n",
    "news_df.dropna(inplace=True)\n",
    "print(\"Number of missing values after handling:\\n\", news_df.isnull().sum())"
   ],
   "id": "d995140498d8c65f"
  },
  {
   "metadata": {},
   "cell_type": "code",
   "outputs": [],
   "execution_count": null,
   "source": [
    "# Combine title and text into a single 'combined_text' column\n",
    "news_df['combined_text'] = news_df['title'] + ' ' + news_df['text']\n",
    "\n",
    "# Clean the text data\n",
    "def clean_text(text):\n",
    "    text = text.lower()  # Convert to lowercase\n",
    "    text = re.sub(r'[^\\w\\s]', '', text)  # Remove punctuation and special characters\n",
    "    text = re.sub(r'\\d+', '', text)  # Remove numbers\n",
    "    return text\n",
    "\n",
    "news_df['combined_text'] = news_df['combined_text'].apply(clean_text)"
   ],
   "id": "c5c8d9a0ab534505"
  },
  {
   "metadata": {},
   "cell_type": "markdown",
   "source": "Step 4: Tokenization",
   "id": "f8b0aa1620731078"
  },
  {
   "metadata": {},
   "cell_type": "code",
   "outputs": [],
   "execution_count": null,
   "source": [
    "MAX_VOCAB_SIZE = 20000  # Maximum number of words to keep in the vocabulary\n",
    "tokenizer = Tokenizer(num_words=MAX_VOCAB_SIZE, oov_token=\"<unk>\") #oov = Out of Vocabulary\n",
    "tokenizer.fit_on_texts(news_df['combined_text'])\n",
    "sequences = tokenizer.texts_to_sequences(news_df['combined_text'])"
   ],
   "id": "5861eb7db1b0b61f"
  },
  {
   "metadata": {},
   "cell_type": "markdown",
   "source": "Step 5: Padding",
   "id": "1bbe5a6375666215"
  },
  {
   "metadata": {},
   "cell_type": "code",
   "outputs": [],
   "execution_count": null,
   "source": [
    "MAX_SEQUENCE_LENGTH = 200  # Maximum sequence length (adjust as needed after looking at sequence length distribution)\n",
    "padded_sequences = pad_sequences(sequences, maxlen=MAX_SEQUENCE_LENGTH, padding='post', truncating='post')"
   ],
   "id": "71a729f9340138a9"
  },
  {
   "metadata": {},
   "cell_type": "markdown",
   "source": "Step 6: Create x and y, then split data",
   "id": "59983f2ba027afa8"
  },
  {
   "metadata": {},
   "cell_type": "code",
   "outputs": [],
   "execution_count": null,
   "source": [
    "x = padded_sequences\n",
    "y = news_df['label'].values\n",
    "\n",
    "x_train, x_test, y_train, y_test = train_test_split(x, y, test_size=0.2, random_state=42) #80% training, 20% testing\n",
    "\n",
    "print(\"Shape of x_train:\", x_train.shape)\n",
    "print(\"Shape of y_train:\", y_train.shape)\n",
    "print(\"Shape of x_test:\", x_test.shape)\n",
    "print(\"Shape of y_test:\", y_test.shape)\n"
   ],
   "id": "9b5d2c0cec9af9e0"
  },
  {
   "metadata": {},
   "cell_type": "markdown",
   "source": "Step 6: Pre-trained Embeddings (GloVe)",
   "id": "81fa13fd37f9b3be"
  },
  {
   "metadata": {},
   "cell_type": "code",
   "outputs": [],
   "execution_count": null,
   "source": [
    "EMBEDDING_DIM = 100  # Dimensionality of the GloVe embeddings\n",
    "GLOVE_DIR = 'glove.6B' #  Create a folder named 'glove.6B' in the 'content' directory. Place glove.6B.100d.txt inside it.\n",
    "embeddings_index = {}\n",
    "\n",
    "try:\n",
    "    with open(os.path.join('content', GLOVE_DIR, 'glove.6B.100d.txt'), encoding='utf-8') as f:\n",
    "        for line in f:\n",
    "            values = line.split()\n",
    "            word = values[0]\n",
    "            coefs = np.asarray(values[1:], dtype='float32')\n",
    "            embeddings_index[word] = coefs\n",
    "except FileNotFoundError:\n",
    "    print(\"GloVe file not found. Please download 'glove.6B.zip' from https://nlp.stanford.edu/projects/glove/,\")\n",
    "    print(\"extract it, and place 'glove.6B.100d.txt' in a folder named 'glove.6B' inside the 'content' directory.\")\n",
    "    exit() # Stop execution if the file is not found.\n",
    "\n",
    "print('Found %s word vectors.' % len(embeddings_index))"
   ],
   "id": "82e102024c52def8"
  },
  {
   "metadata": {},
   "cell_type": "code",
   "outputs": [],
   "execution_count": null,
   "source": [
    "# Prepare embedding matrix\n",
    "word_index = tokenizer.word_index\n",
    "num_words = min(MAX_VOCAB_SIZE, len(word_index) + 1)\n",
    "embedding_matrix = np.zeros((num_words, EMBEDDING_DIM))\n",
    "\n",
    "for word, i in word_index.items():\n",
    "    if i >= MAX_VOCAB_SIZE:\n",
    "        continue\n",
    "    embedding_vector = embeddings_index.get(word)\n",
    "    if embedding_vector is not None:\n",
    "        # Words not found in the embedding index will be all zeros.\n",
    "        embedding_matrix[i] = embedding_vector\n",
    "\n",
    "\n",
    "print(\"Embedding matrix shape:\", embedding_matrix.shape)"
   ],
   "id": "46ccbdea2d975fdc"
  }
 ],
 "metadata": {
  "kernelspec": {
   "display_name": "Python [conda env:base] *",
   "language": "python",
   "name": "conda-base-py"
  },
  "language_info": {
   "codemirror_mode": {
    "name": "ipython",
    "version": 3
   },
   "file_extension": ".py",
   "mimetype": "text/x-python",
   "name": "python",
   "nbconvert_exporter": "python",
   "pygments_lexer": "ipython3",
   "version": "3.11.7"
  }
 },
 "nbformat": 4,
 "nbformat_minor": 5
}
