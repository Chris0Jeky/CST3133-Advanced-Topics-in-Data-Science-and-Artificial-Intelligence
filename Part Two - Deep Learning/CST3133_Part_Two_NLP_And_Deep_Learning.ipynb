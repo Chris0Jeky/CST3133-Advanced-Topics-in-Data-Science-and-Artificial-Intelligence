{
 "cells": [
  {
   "cell_type": "markdown",
   "id": "65e29d1c107f5aa",
   "metadata": {},
   "source": [
    "Imports below:"
   ]
  },
  {
   "cell_type": "code",
   "id": "initial_id",
   "metadata": {
    "ExecuteTime": {
     "end_time": "2025-03-25T12:03:12.634927Z",
     "start_time": "2025-03-25T12:03:11.265649Z"
    }
   },
   "source": [
    "import os\n",
    "import re\n",
    "import numpy as np\n",
    "import pandas as pd\n",
    "from collections import Counter\n",
    "import matplotlib.pyplot as plt\n",
    "import nltk\n",
    "nltk.download('punkt')"
   ],
   "outputs": [
    {
     "name": "stderr",
     "output_type": "stream",
     "text": [
      "[nltk_data] Downloading package punkt to\n",
      "[nltk_data]     C:\\Users\\jekyt\\AppData\\Roaming\\nltk_data...\n",
      "[nltk_data]   Package punkt is already up-to-date!\n"
     ]
    },
    {
     "data": {
      "text/plain": [
       "True"
      ]
     },
     "execution_count": 8,
     "metadata": {},
     "output_type": "execute_result"
    }
   ],
   "execution_count": 8
  },
  {
   "cell_type": "markdown",
   "id": "71b4139a66f411f4",
   "metadata": {},
   "source": [
    "Step 1 & 2: Load and Combine Data"
   ]
  },
  {
   "cell_type": "code",
   "id": "8b8db9f5fa47c80e",
   "metadata": {
    "ExecuteTime": {
     "end_time": "2025-03-25T12:03:23.025729Z",
     "start_time": "2025-03-25T12:03:23.022587Z"
    }
   },
   "source": [
    "# Set random seed for reproducibility\n",
    "import random\n",
    "random.seed(42)\n",
    "np.random.seed(42)"
   ],
   "outputs": [],
   "execution_count": 9
  },
  {
   "cell_type": "code",
   "id": "1c7736d17ff0b4bb",
   "metadata": {
    "ExecuteTime": {
     "end_time": "2025-03-25T12:41:46.415274Z",
     "start_time": "2025-03-25T12:41:46.411648Z"
    }
   },
   "source": [
    "# Files are stored in the 'content' folder.\n",
    "fake_path = os.path.join(\"content\", \"Fake.csv\")\n",
    "true_path = os.path.join(\"content\", \"True.csv\")"
   ],
   "outputs": [],
   "execution_count": 10
  },
  {
   "cell_type": "code",
   "id": "d1f61af1fbff4772",
   "metadata": {
    "ExecuteTime": {
     "end_time": "2025-03-25T12:41:48.790247Z",
     "start_time": "2025-03-25T12:41:48.124179Z"
    }
   },
   "source": [
    "fake_df = pd.read_csv(fake_path)\n",
    "true_df = pd.read_csv(true_path)\n",
    "\n",
    "# Add a label column: 0 for fake, 1 for true\n",
    "fake_df['label'] = 0\n",
    "true_df['label'] = 1"
   ],
   "outputs": [],
   "execution_count": 11
  },
  {
   "cell_type": "code",
   "id": "3424a77c6314529f",
   "metadata": {
    "ExecuteTime": {
     "end_time": "2025-03-25T12:41:49.884037Z",
     "start_time": "2025-03-25T12:41:49.872813Z"
    }
   },
   "source": [
    "# Concatenate the DataFrames\n",
    "df = pd.concat([fake_df, true_df], ignore_index=True)\n",
    "\n",
    "# Keep only the necessary columns: title, text, and label.\n",
    "df = df[['title', 'text', 'label']]"
   ],
   "outputs": [],
   "execution_count": 12
  },
  {
   "metadata": {},
   "cell_type": "markdown",
   "source": "3: Data Cleaning and Preprocessing",
   "id": "fa3198f228028d40"
  },
  {
   "metadata": {
    "ExecuteTime": {
     "end_time": "2025-03-25T12:41:51.164452Z",
     "start_time": "2025-03-25T12:41:51.142346Z"
    }
   },
   "cell_type": "code",
   "source": [
    "# Check and drop missing values\n",
    "print(\"Missing values before:\", df.isnull().sum())\n",
    "df.dropna(inplace=True)\n",
    "print(\"Missing values after:\", df.isnull().sum())"
   ],
   "id": "d2aee52544353e28",
   "outputs": [
    {
     "name": "stdout",
     "output_type": "stream",
     "text": [
      "Missing values before: title    0\n",
      "text     0\n",
      "label    0\n",
      "dtype: int64\n",
      "Missing values after: title    0\n",
      "text     0\n",
      "label    0\n",
      "dtype: int64\n"
     ]
    }
   ],
   "execution_count": 13
  },
  {
   "cell_type": "code",
   "id": "d995140498d8c65f",
   "metadata": {
    "ExecuteTime": {
     "end_time": "2025-03-25T12:41:52.792646Z",
     "start_time": "2025-03-25T12:41:52.712399Z"
    }
   },
   "source": [
    "# Create a new column 'combined_text' that concatenates the title and text.\n",
    "df['combined_text'] = df['title'] + ' ' + df['text']"
   ],
   "outputs": [],
   "execution_count": 14
  },
  {
   "cell_type": "code",
   "id": "c5c8d9a0ab534505",
   "metadata": {
    "ExecuteTime": {
     "end_time": "2025-03-25T12:41:59.421762Z",
     "start_time": "2025-03-25T12:41:54.246699Z"
    }
   },
   "source": [
    "# --- Text Cleaning Function ---\n",
    "def clean_text(text):\n",
    "    text = text.lower()  # Convert to lowercase\n",
    "    text = re.sub(r'[^\\w\\s]', '', text)  # Remove punctuation and special characters\n",
    "    text = re.sub(r'\\d+', '', text)  # Remove numbers\n",
    "    text = re.sub(r'\\s+', ' ', text).strip()  # Remove extra spaces\n",
    "    return text\n",
    "\n",
    "df['combined_text'] = df['combined_text'].apply(clean_text)"
   ],
   "outputs": [],
   "execution_count": 15
  },
  {
   "cell_type": "markdown",
   "id": "f8b0aa1620731078",
   "metadata": {},
   "source": [
    "Step 4: Tokenization"
   ]
  },
  {
   "cell_type": "code",
   "id": "5861eb7db1b0b61f",
   "metadata": {
    "ExecuteTime": {
     "end_time": "2025-03-25T12:42:02.556229Z",
     "start_time": "2025-03-25T12:42:01.490265Z"
    }
   },
   "source": [
    "# We use a simple whitespace split. (Alternatively, nltk.word_tokenize can be used)\n",
    "def tokenize(text):\n",
    "    return text.split()\n",
    "\n",
    "df['tokens'] = df['combined_text'].apply(tokenize)"
   ],
   "outputs": [],
   "execution_count": 16
  },
  {
   "metadata": {},
   "cell_type": "markdown",
   "source": "Build Vocabulary",
   "id": "195ceda9a72349c8"
  },
  {
   "metadata": {
    "ExecuteTime": {
     "end_time": "2025-03-25T12:42:06.252874Z",
     "start_time": "2025-03-25T12:42:04.530345Z"
    }
   },
   "cell_type": "code",
   "source": [
    "MAX_VOCAB_SIZE = 20000  # Limit vocabulary size\n",
    "counter = Counter([word for tokens in df['tokens'] for word in tokens])\n",
    "most_common = counter.most_common(MAX_VOCAB_SIZE - 2)  # Reserve indices for <PAD> and <UNK>"
   ],
   "id": "8bc4018a047e0fc2",
   "outputs": [],
   "execution_count": 17
  },
  {
   "cell_type": "markdown",
   "id": "1bbe5a6375666215",
   "metadata": {},
   "source": "5: Create a word-to-index mapping. Reserve index 0 for padding, 1 for OOV."
  },
  {
   "cell_type": "code",
   "id": "71a729f9340138a9",
   "metadata": {
    "ExecuteTime": {
     "end_time": "2025-03-25T12:42:07.893099Z",
     "start_time": "2025-03-25T12:42:07.886024Z"
    }
   },
   "source": [
    "word2idx = {\"<PAD>\": 0, \"<UNK>\": 1}\n",
    "for idx, (word, _) in enumerate(most_common, start=2):\n",
    "    word2idx[word] = idx\n",
    "\n",
    "# Compute vocabulary size from the word-to-index mapping\n",
    "vocab_size = len(word2idx)\n",
    "print(\"Vocabulary Size:\", vocab_size)"
   ],
   "outputs": [],
   "execution_count": 18
  },
  {
   "cell_type": "markdown",
   "id": "59983f2ba027afa8",
   "metadata": {},
   "source": "Convert Tokens to Sequences"
  },
  {
   "cell_type": "code",
   "id": "9b5d2c0cec9af9e0",
   "metadata": {
    "ExecuteTime": {
     "end_time": "2025-03-25T12:42:10.959986Z",
     "start_time": "2025-03-25T12:42:09.462716Z"
    }
   },
   "source": [
    "def tokens_to_sequence(tokens, word2idx):\n",
    "    return [word2idx.get(word, word2idx[\"<UNK>\"]) for word in tokens]\n",
    "\n",
    "df['sequence'] = df['tokens'].apply(lambda x: tokens_to_sequence(x, word2idx))\n"
   ],
   "outputs": [],
   "execution_count": 19
  },
  {
   "metadata": {},
   "cell_type": "markdown",
   "source": "Padding Sequences",
   "id": "390a59cf2dbb931e"
  },
  {
   "metadata": {
    "ExecuteTime": {
     "end_time": "2025-03-25T12:42:12.070255Z",
     "start_time": "2025-03-25T12:42:11.685698Z"
    }
   },
   "cell_type": "code",
   "source": [
    "MAX_SEQUENCE_LENGTH = 200  # Adjust this value based on distribution or experimentation\n",
    "\n",
    "def pad_sequence(seq, max_len):\n",
    "    if len(seq) < max_len:\n",
    "        return seq + [0] * (max_len - len(seq))\n",
    "    else:\n",
    "        return seq[:max_len]\n",
    "\n",
    "df['padded_seq'] = df['sequence'].apply(lambda x: pad_sequence(x, MAX_SEQUENCE_LENGTH))"
   ],
   "id": "a220e46cd2226a12",
   "outputs": [],
   "execution_count": 20
  },
  {
   "metadata": {
    "ExecuteTime": {
     "end_time": "2025-03-25T12:42:13.653421Z",
     "start_time": "2025-03-25T12:42:13.387911Z"
    }
   },
   "cell_type": "code",
   "source": [
    "# Prepare features and labels\n",
    "X = np.array(df['padded_seq'].tolist())\n",
    "y = df['label'].values\n",
    "\n",
    "print(\"Feature shape:\", X.shape)\n",
    "print(\"Labels shape:\", y.shape)"
   ],
   "id": "224c6870b99e2799",
   "outputs": [
    {
     "name": "stdout",
     "output_type": "stream",
     "text": [
      "Feature shape: (44898, 200)\n",
      "Labels shape: (44898,)\n"
     ]
    }
   ],
   "execution_count": 21
  },
  {
   "cell_type": "markdown",
   "id": "81fa13fd37f9b3be",
   "metadata": {},
   "source": [
    "Step 6: Pre-trained Embeddings (GloVe)"
   ]
  },
  {
   "cell_type": "code",
   "id": "82e102024c52def8",
   "metadata": {
    "ExecuteTime": {
     "end_time": "2025-03-25T12:47:12.982925Z",
     "start_time": "2025-03-25T12:47:05.855376Z"
    }
   },
   "source": [
    "import os\n",
    "import re\n",
    "import numpy as np\n",
    "import pandas as pd\n",
    "from collections import Counter\n",
    "import matplotlib.pyplot as plt\n",
    "import nltk\n",
    "\n",
    "EMBEDDING_DIM = 100  # Dimensionality of the GloVe embeddings\n",
    "GLOVE_DIR = 'glove.6B' #  Create a folder named 'glove.6B' in the 'content' directory. Place glove.6B.100d.txt inside it.\n",
    "embeddings_index = {}\n",
    "\n",
    "try:\n",
    "    with open(os.path.join('content', GLOVE_DIR, 'glove.6B.100d.txt'), encoding='utf-8') as f:\n",
    "        for line in f:\n",
    "            values = line.split()\n",
    "            word = values[0]\n",
    "            coefs = np.asarray(values[1:], dtype='float32')\n",
    "            embeddings_index[word] = coefs\n",
    "except FileNotFoundError:\n",
    "    print(\"GloVe file not found. Please download 'glove.6B.zip' from https://nlp.stanford.edu/projects/glove/,\")\n",
    "    print(\"extract it, and place 'glove.6B.100d.txt' in a folder named 'glove.6B' inside the 'content' directory.\")\n",
    "    exit() # Stop execution if the file is not found.\n",
    "\n",
    "print('Found %s word vectors.' % len(embeddings_index))"
   ],
   "outputs": [
    {
     "name": "stdout",
     "output_type": "stream",
     "text": [
      "Found 400000 word vectors.\n"
     ]
    }
   ],
   "execution_count": 4
  },
  {
   "cell_type": "code",
   "id": "46ccbdea2d975fdc",
   "metadata": {
    "ExecuteTime": {
     "end_time": "2025-03-25T12:47:21.864083Z",
     "start_time": "2025-03-25T12:47:16.004844Z"
    }
   },
   "source": [
    "# Prepare the embedding matrix\n",
    "vocab_size = len(word2idx)  # Ensure vocab_size is defined\n",
    "embedding_matrix = np.zeros((vocab_size, EMBEDDING_DIM))\n",
    "\n",
    "for word, idx in word2idx.items():\n",
    "    vector = embeddings_index.get(word)\n",
    "    if vector is not None:\n",
    "        embedding_matrix[idx] = vector\n",
    "    # If word is not in GloVe, the row remains zeros\n",
    "print(\"Embedding matrix shape:\", embedding_matrix.shape)"
   ],
   "outputs": [
    {
     "name": "stdout",
     "output_type": "stream",
     "text": [
      "Found 400000 word vectors in GloVe.\n"
     ]
    }
   ],
   "execution_count": 5
  },
  {
   "metadata": {
    "ExecuteTime": {
     "end_time": "2025-03-25T12:47:25.710081Z",
     "start_time": "2025-03-25T12:47:23.626455Z"
    }
   },
   "cell_type": "code",
   "source": [
    "import torch\n",
    "import torch.nn as nn\n",
    "from torch.utils.data import Dataset, DataLoader\n",
    "from sklearn.model_selection import train_test_split"
   ],
   "id": "8106483b03457d1f",
   "outputs": [],
   "execution_count": 6
  },
  {
   "metadata": {},
   "cell_type": "markdown",
   "source": "Create a Custom Dataset",
   "id": "dfdffab31d05c305"
  },
  {
   "metadata": {
    "ExecuteTime": {
     "end_time": "2025-03-25T12:47:28.315763Z",
     "start_time": "2025-03-25T12:47:28.312746Z"
    }
   },
   "cell_type": "code",
   "source": [
    "class FakeNewsClassifierLSTM(nn.Module):\n",
    "    def __init__(self, vocab_size, embedding_dim, hidden_dim, output_dim, n_layers,\n",
    "                 dropout_prob, embedding_matrix, trainable_embedding=False):\n",
    "        \"\"\"\n",
    "        Args:\n",
    "            vocab_size (int): Size of the vocabulary.\n",
    "            embedding_dim (int): Dimension of the word embeddings.\n",
    "            hidden_dim (int): Dimension of the LSTM hidden state.\n",
    "            output_dim (int): Dimension of the output (1 for binary classification).\n",
    "            n_layers (int): Number of LSTM layers.\n",
    "            dropout_prob (float): Dropout probability.\n",
    "            embedding_matrix (np.array): Pre-trained embedding weights.\n",
    "            trainable_embedding (bool): Whether the embedding layer weights should be trained.\n",
    "        \"\"\"\n",
    "        super(FakeNewsClassifierLSTM, self).__init__()\n",
    "        self.n_layers = n_layers\n",
    "        self.hidden_dim = hidden_dim\n",
    "\n",
    "        # 1. Embedding Layer\n",
    "        self.embedding = nn.Embedding(vocab_size, embedding_dim, padding_idx=0)\n",
    "        # Load pre-trained embeddings\n",
    "        self.embedding.weight.data.copy_(torch.tensor(embedding_matrix, dtype=torch.float32))\n",
    "        self.embedding.weight.requires_grad = trainable_embedding\n",
    "\n",
    "        # 2. LSTM Layer(s)\n",
    "        # Only apply internal dropout if n_layers > 1\n",
    "        self.lstm = nn.LSTM(embedding_dim,\n",
    "                            hidden_dim,\n",
    "                            num_layers=n_layers,\n",
    "                            dropout=dropout_prob if n_layers > 1 else 0,\n",
    "                            batch_first=True,\n",
    "                            bidirectional=False)\n",
    "\n",
    "        # 3. Dropout Layer (applied after LSTM)\n",
    "        self.dropout = nn.Dropout(dropout_prob)\n",
    "\n",
    "        # 4. Dense Layer\n",
    "        self.fc = nn.Linear(hidden_dim, output_dim)\n",
    "\n",
    "        # 5. Output Layer Activation\n",
    "        self.sigmoid = nn.Sigmoid()\n",
    "\n",
    "    def forward(self, x):\n",
    "        # x shape: (batch_size, seq_length)\n",
    "        embedded = self.embedding(x)  # (batch_size, seq_length, embedding_dim)\n",
    "        lstm_out, (hidden, cell) = self.lstm(embedded)\n",
    "        # Get last hidden state from the last LSTM layer\n",
    "        last_hidden_state = hidden[-1]  # (batch_size, hidden_dim)\n",
    "        out = self.dropout(last_hidden_state)\n",
    "        out = self.fc(out)\n",
    "        return self.sigmoid(out).squeeze()  # Squeeze to match shape for loss"
   ],
   "id": "78c127a7a7a40987",
   "outputs": [],
   "execution_count": 7
  },
  {
   "metadata": {},
   "cell_type": "markdown",
   "source": "Split into training and testing sets",
   "id": "5f7572c25e6a507"
  },
  {
   "metadata": {},
   "cell_type": "code",
   "outputs": [],
   "execution_count": null,
   "source": [
    "# Create a custom Dataset and DataLoaders for training and testing\n",
    "from torch.utils.data import Dataset, DataLoader\n",
    "from sklearn.model_selection import train_test_split\n",
    "\n",
    "class NewsDataset(Dataset):\n",
    "    def __init__(self, X, y):\n",
    "        self.X = torch.tensor(X, dtype=torch.long)\n",
    "        self.y = torch.tensor(y, dtype=torch.float32)\n",
    "\n",
    "    def __len__(self):\n",
    "        return len(self.y)\n",
    "\n",
    "    def __getitem__(self, idx):\n",
    "        return self.X[idx], self.y[idx]\n",
    "\n",
    "# Split the data\n",
    "X_train, X_test, y_train, y_test = train_test_split(X, y, test_size=0.2, random_state=42)\n",
    "train_dataset = NewsDataset(X_train, y_train)\n",
    "test_dataset = NewsDataset(X_test, y_test)\n",
    "\n",
    "# Create DataLoaders\n",
    "BATCH_SIZE = 128  # Adjust as needed\n",
    "train_loader = DataLoader(train_dataset, batch_size=BATCH_SIZE, shuffle=True)\n",
    "test_loader = DataLoader(test_dataset, batch_size=BATCH_SIZE, shuffle=False)"
   ],
   "id": "b613640e684a98f9"
  },
  {
   "metadata": {
    "ExecuteTime": {
     "end_time": "2025-03-25T12:47:30.439476Z",
     "start_time": "2025-03-25T12:47:30.408642Z"
    }
   },
   "cell_type": "code",
   "source": [
    "# Module 2: Training and Evaluation Loop with Metrics\n",
    "import torch.optim as optim\n",
    "from sklearn.metrics import accuracy_score, precision_score, recall_score, f1_score\n",
    "import time\n",
    "\n",
    "# Hyperparameters (adjust as needed)\n",
    "HIDDEN_DIM = 128\n",
    "OUTPUT_DIM = 1\n",
    "N_LAYERS = 1\n",
    "DROPOUT_PROB = 0.3\n",
    "LEARNING_RATE = 1e-3\n",
    "NUM_EPOCHS = 5\n",
    "TRAINABLE_EMBEDDING = False\n",
    "\n",
    "# Instantiate the model using the enhanced definition from Module 1\n",
    "model = FakeNewsClassifierLSTM(\n",
    "    vocab_size=vocab_size,\n",
    "    embedding_dim=EMBEDDING_DIM,\n",
    "    hidden_dim=HIDDEN_DIM,\n",
    "    output_dim=OUTPUT_DIM,\n",
    "    n_layers=N_LAYERS,\n",
    "    dropout_prob=DROPOUT_PROB,\n",
    "    embedding_matrix=embedding_matrix,\n",
    "    trainable_embedding=TRAINABLE_EMBEDDING\n",
    ")\n",
    "print(model)\n",
    "\n",
    "# Count parameters (optional)\n",
    "total_params = sum(p.numel() for p in model.parameters())\n",
    "trainable_params = sum(p.numel() for p in model.parameters() if p.requires_grad)\n",
    "print(f\"Total Parameters: {total_params:,}\")\n",
    "print(f\"Trainable Parameters: {trainable_params:,}\")\n",
    "\n",
    "# Loss function and optimizer\n",
    "criterion = nn.BCELoss()\n",
    "optimizer = optim.Adam(model.parameters(), lr=LEARNING_RATE)\n",
    "\n",
    "# Device handling\n",
    "device = torch.device(\"cuda\" if torch.cuda.is_available() else \"cpu\")\n",
    "print(f\"Using device: {device}\")\n",
    "model.to(device)\n",
    "criterion.to(device)\n",
    "\n",
    "# Training loop with metrics\n",
    "history = {\n",
    "    'train_loss': [],\n",
    "    'val_loss': [],\n",
    "    'val_accuracy': [],\n",
    "    'val_precision': [],\n",
    "    'val_recall': [],\n",
    "    'val_f1': []\n",
    "}\n",
    "best_val_loss = float('inf')\n",
    "start_time = time.time()\n",
    "\n",
    "for epoch in range(NUM_EPOCHS):\n",
    "    epoch_start_time = time.time()\n",
    "    model.train()\n",
    "    running_train_loss = 0.0\n",
    "\n",
    "    for batch_X, batch_y in train_loader:\n",
    "        batch_X, batch_y = batch_X.to(device), batch_y.to(device)\n",
    "        optimizer.zero_grad()\n",
    "        predictions = model(batch_X)\n",
    "        loss = criterion(predictions, batch_y)\n",
    "        loss.backward()\n",
    "        optimizer.step()\n",
    "        running_train_loss += loss.item()\n",
    "\n",
    "    avg_train_loss = running_train_loss / len(train_loader)\n",
    "    history['train_loss'].append(avg_train_loss)\n",
    "\n",
    "    # Validation phase\n",
    "    model.eval()\n",
    "    running_val_loss = 0.0\n",
    "    all_preds, all_labels = [], []\n",
    "    with torch.no_grad():\n",
    "        for batch_X, batch_y in test_loader:\n",
    "            batch_X, batch_y = batch_X.to(device), batch_y.to(device)\n",
    "            preds = model(batch_X)\n",
    "            loss = criterion(preds, batch_y)\n",
    "            running_val_loss += loss.item()\n",
    "            all_preds.extend(preds.cpu().numpy())\n",
    "            all_labels.extend(batch_y.cpu().numpy())\n",
    "\n",
    "    avg_val_loss = running_val_loss / len(test_loader)\n",
    "    history['val_loss'].append(avg_val_loss)\n",
    "    binary_preds = [1 if p > 0.5 else 0 for p in all_preds]\n",
    "\n",
    "    val_accuracy = accuracy_score(all_labels, binary_preds)\n",
    "    val_precision = precision_score(all_labels, binary_preds, zero_division=0)\n",
    "    val_recall = recall_score(all_labels, binary_preds, zero_division=0)\n",
    "    val_f1 = f1_score(all_labels, binary_preds, zero_division=0)\n",
    "\n",
    "    history['val_accuracy'].append(val_accuracy)\n",
    "    history['val_precision'].append(val_precision)\n",
    "    history['val_recall'].append(val_recall)\n",
    "    history['val_f1'].append(val_f1)\n",
    "\n",
    "    epoch_time = time.time() - epoch_start_time\n",
    "    print(f\"Epoch {epoch+1}/{NUM_EPOCHS} - {epoch_time:.2f}s - Train Loss: {avg_train_loss:.4f} - \"\n",
    "          f\"Val Loss: {avg_val_loss:.4f} - Val Acc: {val_accuracy:.4f} - \"\n",
    "          f\"Val Prec: {val_precision:.4f} - Val Rec: {val_recall:.4f} - Val F1: {val_f1:.4f}\")\n",
    "\n",
    "    if avg_val_loss < best_val_loss:\n",
    "        best_val_loss = avg_val_loss\n",
    "        # Optionally save the model: torch.save(model.state_dict(), 'best_lstm_model.pth')\n",
    "\n",
    "training_time = time.time() - start_time\n",
    "print(f\"Total Training Time: {training_time:.2f} seconds\")\n"
   ],
   "id": "99e95682474d0b65",
   "outputs": [
    {
     "ename": "NameError",
     "evalue": "name 'X' is not defined",
     "output_type": "error",
     "traceback": [
      "\u001B[1;31m---------------------------------------------------------------------------\u001B[0m",
      "\u001B[1;31mNameError\u001B[0m                                 Traceback (most recent call last)",
      "Cell \u001B[1;32mIn[8], line 2\u001B[0m\n\u001B[0;32m      1\u001B[0m \u001B[38;5;66;03m# Split into training and testing sets\u001B[39;00m\n\u001B[1;32m----> 2\u001B[0m X_train, X_test, y_train, y_test \u001B[38;5;241m=\u001B[39m train_test_split(X, y, test_size\u001B[38;5;241m=\u001B[39m\u001B[38;5;241m0.2\u001B[39m, random_state\u001B[38;5;241m=\u001B[39m\u001B[38;5;241m42\u001B[39m)\n\u001B[0;32m      4\u001B[0m train_dataset \u001B[38;5;241m=\u001B[39m NewsDataset(X_train, y_train)\n\u001B[0;32m      5\u001B[0m test_dataset \u001B[38;5;241m=\u001B[39m NewsDataset(X_test, y_test)\n",
      "\u001B[1;31mNameError\u001B[0m: name 'X' is not defined"
     ]
    }
   ],
   "execution_count": 8
  }
 ],
 "metadata": {
  "kernelspec": {
   "display_name": "Python 3 (ipykernel)",
   "language": "python",
   "name": "python3"
  },
  "language_info": {
   "codemirror_mode": {
    "name": "ipython",
    "version": 3
   },
   "file_extension": ".py",
   "mimetype": "text/x-python",
   "name": "python",
   "nbconvert_exporter": "python",
   "pygments_lexer": "ipython3",
   "version": "3.12.7"
  }
 },
 "nbformat": 4,
 "nbformat_minor": 5
}
