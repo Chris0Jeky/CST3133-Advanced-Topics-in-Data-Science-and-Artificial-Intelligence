{
 "cells": [
  {
   "cell_type": "markdown",
   "id": "65e29d1c107f5aa",
   "metadata": {},
   "source": [
    "Imports below:"
   ]
  },
  {
   "cell_type": "code",
   "execution_count": 1,
   "id": "initial_id",
   "metadata": {
    "jupyter": {
     "is_executing": true
    }
   },
   "outputs": [],
   "source": [
    "# Imports\n",
    "import os\n",
    "import pandas as pd\n",
    "import numpy as np\n",
    "import re\n",
    "from tensorflow.keras.preprocessing.text import Tokenizer\n",
    "from tensorflow.keras.preprocessing.sequence import pad_sequences\n",
    "from sklearn.model_selection import train_test_split"
   ]
  },
  {
   "cell_type": "markdown",
   "id": "71b4139a66f411f4",
   "metadata": {},
   "source": [
    "Step 1 & 2: Load and Combine Data"
   ]
  },
  {
   "cell_type": "code",
   "execution_count": 3,
   "id": "8b8db9f5fa47c80e",
   "metadata": {},
   "outputs": [],
   "source": [
    "# Define the paths to your data files\n",
    "fake_news_path = os.path.join(\"content\", \"Fake.csv\")\n",
    "true_news_path = os.path.join(\"content\", \"True.csv\")"
   ]
  },
  {
   "cell_type": "code",
   "execution_count": 5,
   "id": "1c7736d17ff0b4bb",
   "metadata": {},
   "outputs": [],
   "source": [
    "# Load the data into pandas DataFrames\n",
    "fake_df = pd.read_csv(fake_news_path)\n",
    "true_df = pd.read_csv(true_news_path)"
   ]
  },
  {
   "metadata": {},
   "cell_type": "code",
   "outputs": [],
   "execution_count": null,
   "source": [
    "# Add a 'label' column (0 for fake, 1 for real)\n",
    "fake_df['label'] = 0\n",
    "true_df['label'] = 1"
   ],
   "id": "d1f61af1fbff4772"
  },
  {
   "metadata": {},
   "cell_type": "code",
   "outputs": [],
   "execution_count": null,
   "source": [
    "# Concatenate the DataFrames\n",
    "news_df = pd.concat([fake_df, true_df], ignore_index=True)"
   ],
   "id": "3424a77c6314529f"
  },
  {
   "metadata": {},
   "cell_type": "markdown",
   "source": "Step 3: Data Cleaning",
   "id": "fcbf06c1d0826d54"
  },
  {
   "metadata": {},
   "cell_type": "code",
   "outputs": [],
   "execution_count": null,
   "source": [
    "# Remove unnecessary columns\n",
    "news_df = news_df[['title', 'text', 'label']]\n",
    "\n",
    "# Handle missing values (if any) - Check and remove rows\n",
    "print(\"Number of missing values before handling:\\n\", news_df.isnull().sum())\n",
    "news_df.dropna(inplace=True)\n",
    "print(\"Number of missing values after handling:\\n\", news_df.isnull().sum())"
   ],
   "id": "d995140498d8c65f"
  },
  {
   "metadata": {},
   "cell_type": "code",
   "outputs": [],
   "execution_count": null,
   "source": [
    "# Combine title and text into a single 'combined_text' column\n",
    "news_df['combined_text'] = news_df['title'] + ' ' + news_df['text']\n",
    "\n",
    "# Clean the text data\n",
    "def clean_text(text):\n",
    "    text = text.lower()  # Convert to lowercase\n",
    "    text = re.sub(r'[^\\w\\s]', '', text)  # Remove punctuation and special characters\n",
    "    text = re.sub(r'\\d+', '', text)  # Remove numbers\n",
    "    return text\n",
    "\n",
    "news_df['combined_text'] = news_df['combined_text'].apply(clean_text)"
   ],
   "id": "c5c8d9a0ab534505"
  }
 ],
 "metadata": {
  "kernelspec": {
   "display_name": "Python [conda env:base] *",
   "language": "python",
   "name": "conda-base-py"
  },
  "language_info": {
   "codemirror_mode": {
    "name": "ipython",
    "version": 3
   },
   "file_extension": ".py",
   "mimetype": "text/x-python",
   "name": "python",
   "nbconvert_exporter": "python",
   "pygments_lexer": "ipython3",
   "version": "3.11.7"
  }
 },
 "nbformat": 4,
 "nbformat_minor": 5
}
