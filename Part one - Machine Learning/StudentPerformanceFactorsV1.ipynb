{
 "cells": [
  {
   "cell_type": "code",
   "id": "initial_id",
   "metadata": {
    "ExecuteTime": 
     "end_time": "2025-03-17T23:49:39.647494Z",
     "start_time": "2025-03-17T23:49:39.631601Z"
    }
   },
   "source": [
    "import pandas as pd\n",
    "import numpy as np\n",
    "import matplotlib.pyplot as plt\n",
    "import seaborn as sns\n",
    "import os as os\n",
    "\n",
    "# Mount Google Drive (if running in Colab)\n",
    "# from google.colab import drive\n",
    "# drive.mount('/content/drive')\n",
    "\n",
    "# Load the dataset, handling missing values and inconsistencies\n",
    "file_path = 'content/StudentPerformanceFactors.csv'\n",
    "missing_values = [\"--\", \"N/A\", \"NULL\", \"Not Available\", \"Unknown\", \"\"]\n",
    "\n",
    "try:\n",
    "    df = pd.read_csv(file_path, na_values=missing_values)\n",
    "except FileNotFoundError:\n",
    "    print(f\"Error: The file '{file_path}' was not found. Please check the path.\")\n",
    "    exit()  # Exit the script if the file isn't found"
   ],
   "outputs": [],
   "execution_count": 26
  },
  {
   "cell_type": "markdown",
   "id": "91f45c16ea8bc27b",
   "metadata": {},
   "source": [
    "1. Initial Inspection"
   ]
  },
  {
   "cell_type": "code",
   "id": "400ac091dc4ffd75",
   "metadata": {
    "ExecuteTime": {
     "end_time": "2025-03-17T23:49:41.755414Z",
     "start_time": "2025-03-17T23:49:41.729439Z"
    }
   },
   "source": [
    "print(\"Original Data - Head:\")\n",
    "print(df.head())\n",
    "print(\"\\nOriginal Data - Info:\")\n",
    "df.info()\n",
    "print(\"\\nOriginal Data - Describe:\")\n",
    "print(df.describe(include='all'))\n",
    "print(\"\\nOriginal Data - Shape:\")\n",
    "print(df.shape)"
   ],
   "outputs": [
    {
     "name": "stdout",
     "output_type": "stream",
     "text": [
      "Original Data - Head:\n",
      "   Hours_Studied  Attendance Parental_Involvement Access_to_Resources  \\\n",
      "0             23          84                  Low                High   \n",
      "1             19          64                  Low              Medium   \n",
      "2             24          98               Medium              Medium   \n",
      "3             29          89                  Low              Medium   \n",
      "4             19          92               Medium              Medium   \n",
      "\n",
      "  Extracurricular_Activities  Sleep_Hours  Previous_Scores Motivation_Level  \\\n",
      "0                         No            7               73              Low   \n",
      "1                         No            8               59              Low   \n",
      "2                        Yes            7               91           Medium   \n",
      "3                        Yes            8               98           Medium   \n",
      "4                        Yes            6               65           Medium   \n",
      "\n",
      "  Internet_Access  Tutoring_Sessions Family_Income Teacher_Quality  \\\n",
      "0             Yes                  0           Low          Medium   \n",
      "1             Yes                  2        Medium          Medium   \n",
      "2             Yes                  2        Medium          Medium   \n",
      "3             Yes                  1        Medium          Medium   \n",
      "4             Yes                  3        Medium            High   \n",
      "\n",
      "  School_Type Peer_Influence  Physical_Activity Learning_Disabilities  \\\n",
      "0      Public       Positive                  3                    No   \n",
      "1      Public       Negative                  4                    No   \n",
      "2      Public        Neutral                  4                    No   \n",
      "3      Public       Negative                  4                    No   \n",
      "4      Public        Neutral                  4                    No   \n",
      "\n",
      "  Parental_Education_Level Distance_from_Home  Gender  Exam_Score  \n",
      "0              High School               Near    Male          67  \n",
      "1                  College           Moderate  Female          61  \n",
      "2             Postgraduate               Near    Male          74  \n",
      "3              High School           Moderate    Male          71  \n",
      "4                  College               Near  Female          70  \n",
      "\n",
      "Original Data - Info:\n",
      "<class 'pandas.core.frame.DataFrame'>\n",
      "RangeIndex: 6607 entries, 0 to 6606\n",
      "Data columns (total 20 columns):\n",
      " #   Column                      Non-Null Count  Dtype \n",
      "---  ------                      --------------  ----- \n",
      " 0   Hours_Studied               6607 non-null   int64 \n",
      " 1   Attendance                  6607 non-null   int64 \n",
      " 2   Parental_Involvement        6607 non-null   object\n",
      " 3   Access_to_Resources         6607 non-null   object\n",
      " 4   Extracurricular_Activities  6607 non-null   object\n",
      " 5   Sleep_Hours                 6607 non-null   int64 \n",
      " 6   Previous_Scores             6607 non-null   int64 \n",
      " 7   Motivation_Level            6607 non-null   object\n",
      " 8   Internet_Access             6607 non-null   object\n",
      " 9   Tutoring_Sessions           6607 non-null   int64 \n",
      " 10  Family_Income               6607 non-null   object\n",
      " 11  Teacher_Quality             6529 non-null   object\n",
      " 12  School_Type                 6607 non-null   object\n",
      " 13  Peer_Influence              6607 non-null   object\n",
      " 14  Physical_Activity           6607 non-null   int64 \n",
      " 15  Learning_Disabilities       6607 non-null   object\n",
      " 16  Parental_Education_Level    6517 non-null   object\n",
      " 17  Distance_from_Home          6540 non-null   object\n",
      " 18  Gender                      6607 non-null   object\n",
      " 19  Exam_Score                  6607 non-null   int64 \n",
      "dtypes: int64(7), object(13)\n",
      "memory usage: 1.0+ MB\n",
      "\n",
      "Original Data - Describe:\n",
      "        Hours_Studied   Attendance Parental_Involvement Access_to_Resources  \\\n",
      "count     6607.000000  6607.000000                 6607                6607   \n",
      "unique            NaN          NaN                    3                   3   \n",
      "top               NaN          NaN               Medium              Medium   \n",
      "freq              NaN          NaN                 3362                3319   \n",
      "mean        19.975329    79.977448                  NaN                 NaN   \n",
      "std          5.990594    11.547475                  NaN                 NaN   \n",
      "min          1.000000    60.000000                  NaN                 NaN   \n",
      "25%         16.000000    70.000000                  NaN                 NaN   \n",
      "50%         20.000000    80.000000                  NaN                 NaN   \n",
      "75%         24.000000    90.000000                  NaN                 NaN   \n",
      "max         44.000000   100.000000                  NaN                 NaN   \n",
      "\n",
      "       Extracurricular_Activities  Sleep_Hours  Previous_Scores  \\\n",
      "count                        6607   6607.00000      6607.000000   \n",
      "unique                          2          NaN              NaN   \n",
      "top                           Yes          NaN              NaN   \n",
      "freq                         3938          NaN              NaN   \n",
      "mean                          NaN      7.02906        75.070531   \n",
      "std                           NaN      1.46812        14.399784   \n",
      "min                           NaN      4.00000        50.000000   \n",
      "25%                           NaN      6.00000        63.000000   \n",
      "50%                           NaN      7.00000        75.000000   \n",
      "75%                           NaN      8.00000        88.000000   \n",
      "max                           NaN     10.00000       100.000000   \n",
      "\n",
      "       Motivation_Level Internet_Access  Tutoring_Sessions Family_Income  \\\n",
      "count              6607            6607        6607.000000          6607   \n",
      "unique                3               2                NaN             3   \n",
      "top              Medium             Yes                NaN           Low   \n",
      "freq               3351            6108                NaN          2672   \n",
      "mean                NaN             NaN           1.493719           NaN   \n",
      "std                 NaN             NaN           1.230570           NaN   \n",
      "min                 NaN             NaN           0.000000           NaN   \n",
      "25%                 NaN             NaN           1.000000           NaN   \n",
      "50%                 NaN             NaN           1.000000           NaN   \n",
      "75%                 NaN             NaN           2.000000           NaN   \n",
      "max                 NaN             NaN           8.000000           NaN   \n",
      "\n",
      "       Teacher_Quality School_Type Peer_Influence  Physical_Activity  \\\n",
      "count             6529        6607           6607        6607.000000   \n",
      "unique               3           2              3                NaN   \n",
      "top             Medium      Public       Positive                NaN   \n",
      "freq              3925        4598           2638                NaN   \n",
      "mean               NaN         NaN            NaN           2.967610   \n",
      "std                NaN         NaN            NaN           1.031231   \n",
      "min                NaN         NaN            NaN           0.000000   \n",
      "25%                NaN         NaN            NaN           2.000000   \n",
      "50%                NaN         NaN            NaN           3.000000   \n",
      "75%                NaN         NaN            NaN           4.000000   \n",
      "max                NaN         NaN            NaN           6.000000   \n",
      "\n",
      "       Learning_Disabilities Parental_Education_Level Distance_from_Home  \\\n",
      "count                   6607                     6517               6540   \n",
      "unique                     2                        3                  3   \n",
      "top                       No              High School               Near   \n",
      "freq                    5912                     3223               3884   \n",
      "mean                     NaN                      NaN                NaN   \n",
      "std                      NaN                      NaN                NaN   \n",
      "min                      NaN                      NaN                NaN   \n",
      "25%                      NaN                      NaN                NaN   \n",
      "50%                      NaN                      NaN                NaN   \n",
      "75%                      NaN                      NaN                NaN   \n",
      "max                      NaN                      NaN                NaN   \n",
      "\n",
      "       Gender   Exam_Score  \n",
      "count    6607  6607.000000  \n",
      "unique      2          NaN  \n",
      "top      Male          NaN  \n",
      "freq     3814          NaN  \n",
      "mean      NaN    67.235659  \n",
      "std       NaN     3.890456  \n",
      "min       NaN    55.000000  \n",
      "25%       NaN    65.000000  \n",
      "50%       NaN    67.000000  \n",
      "75%       NaN    69.000000  \n",
      "max       NaN   101.000000  \n",
      "\n",
      "Original Data - Shape:\n",
      "(6607, 20)\n"
     ]
    }
   ],
   "execution_count": 27
  },
  {
   "cell_type": "markdown",
   "id": "b17be65d6fe370e9",
   "metadata": {},
   "source": [
    "2. Data Cleaning"
   ]
  },
  {
   "cell_type": "markdown",
   "id": "3a252dc83da8650a",
   "metadata": {},
   "source": [
    "Handle Missing Values and Inconsistencies"
   ]
  },
  {
   "cell_type": "code",
   "execution_count": null,
   "id": "6e070af69c1ee793",
   "metadata": {
    "jupyter": {
     "is_executing": true
    }
   },
   "outputs": [],
   "source": [
    "# Convert 'Hours_Studied' to numeric, coercing errors to NaN\n",
    "df['Hours_Studied'] = pd.to_numeric(df['Hours_Studied'], errors='coerce')\n",
    "\n",
    "# Convert 'Attendance' to numeric, coercing errors to NaN\n",
    "df['Attendance'] = pd.to_numeric(df['Attendance'], errors='coerce')\n",
    "\n",
    "# Convert 'Previous_Scores' to numeric, coercing errors to NaN\n",
    "df['Previous_Scores'] = pd.to_numeric(df['Previous_Scores'], errors='coerce')"
   ]
  },
  {
   "cell_type": "code",
   "execution_count": null,
   "id": "9eb97846ebeb0fe7",
   "metadata": {},
   "outputs": [],
   "source": [
    "# Convert 'Family_Income' to numeric, coercing errors to NaN, and handling potential errors\n",
    "try:\n",
    "    df['Family_Income'] = pd.to_numeric(df['Family_Income'], errors='raise') #errors raise to make sure all errors are handled, see below\n",
    "except ValueError as e:\n",
    "    print(f\"\\nError converting 'Family_Income' to numeric: {e}\")\n",
    "    print(\"Unique non-numeric values in 'Family_Income':\", df['Family_Income'].loc[pd.to_numeric(df['Family_Income'], errors='coerce').isna()].unique())"
   ]
  },
  {
   "cell_type": "code",
   "execution_count": null,
   "id": "5bbab99228f01095",
   "metadata": {},
   "outputs": [],
   "source": [
    "# Convert 'Family_Income' to numeric\n",
    "df['Family_Income'] = df['Family_Income'].replace({'Low':1, 'Medium':2, 'High':3})\n",
    "\n",
    "# Clean up 'Exam_Score'\n",
    "df['Exam_Score'] = pd.to_numeric(df['Exam_Score'], errors='coerce')\n",
    "\n",
    "# Deal with other missing values\n",
    "df['Gender'] = df['Gender'].replace({'Male': 'MALE', 'Female': 'FEMALE'})"
   ]
  },
  {
   "cell_type": "code",
   "execution_count": null,
   "id": "91d03d1ee0706c62",
   "metadata": {},
   "outputs": [],
   "source": [
    "df.describe()\n",
    "\n",
    "# Impute numerical missing values with the median\n",
    "for col in [\n",
    "    'Hours_Studied', 'Attendance', 'Previous_Scores',\n",
    "    'Exam_Score', 'Sleep_Hours', 'Physical_Activity'\n",
    "]:\n",
    "    df[col] = df[col].fillna(df[col].median())\n",
    "\n",
    "df.describe()"
   ]
  },
  {
   "cell_type": "code",
   "execution_count": null,
   "id": "9883d7a5def44e57",
   "metadata": {},
   "outputs": [],
   "source": [
    "df.info()\n",
    "\n",
    "for col in [\n",
    "    'Parental_Involvement', 'Access_to_Resources', 'Extracurricular_Activities',\n",
    "    'Internet_Access', 'Tutoring_Sessions', 'School_Type','Peer_Influence',\n",
    "    'Learning_Disabilities', 'Parental_Education_Level', 'Distance_from_Home',\n",
    "    'Gender','Family_Income', 'Teacher_Quality', 'Motivation_Level'\n",
    "]:\n",
    "    df[col] = df[col].fillna(df[col].mode()[0])\n",
    "\n",
    "df.info()"
   ]
  },
  {
   "cell_type": "code",
   "execution_count": null,
   "id": "30342134148676b9",
   "metadata": {},
   "outputs": [],
   "source": [
    "#Print data types of each column\n",
    "print(df.dtypes)"
   ]
  },
  {
   "cell_type": "code",
   "execution_count": null,
   "id": "e97012c914076f31",
   "metadata": {},
   "outputs": [],
   "source": [
    "# Check the data types and unique values again\n",
    "print(\"\\nCleaned Data - Info:\")\n",
    "df.info()\n",
    "print(\"\\nCleaned Data - Head:\")\n",
    "print(df.head())"
   ]
  },
  {
   "cell_type": "code",
   "execution_count": null,
   "id": "1449c38b6f669c11",
   "metadata": {},
   "outputs": [],
   "source": [
    "df.describe(include='all')\n",
    "print(df.shape)"
   ]
  },
  {
   "cell_type": "code",
   "execution_count": null,
   "id": "a195c79d35416601",
   "metadata": {},
   "outputs": [],
   "source": [
    "# Step 3: Feature Engineering\n",
    "df['Parental_Involvement_Score'] = df['Parental_Involvement'].map({'Low': 1, 'Medium': 2, 'High': 3})\n",
    "df['Parental_Education_Score'] = df['Parental_Education_Level'].map({'High School': 1, 'College': 2, 'Postgraduate': 3})\n",
    "df['Combined_Parental_Score'] = df['Parental_Involvement_Score'] + df['Parental_Education_Score']"
   ]
  },
  {
   "cell_type": "markdown",
   "id": "1609995f775078bc",
   "metadata": {},
   "source": [
    "3. Exploratory Data Analysis (EDA)"
   ]
  },
  {
   "cell_type": "markdown",
   "id": "204d4fbecfc9a9e1",
   "metadata": {},
   "source": [
    "Univariate Analysis"
   ]
  },
  {
   "cell_type": "code",
   "execution_count": null,
   "id": "fd4a7edbfc513098",
   "metadata": {},
   "outputs": [],
   "source": [
    "# Histograms for numerical features\n",
    "numerical_cols = ['Hours_Studied', 'Attendance', 'Sleep_Hours', 'Previous_Scores', 'Family_Income', 'Exam_Score','Combined_Parental_Score']\n",
    "for col in numerical_cols:\n",
    "    plt.figure(figsize=(6, 4))\n",
    "    sns.histplot(df[col], kde=False) # Removed kde, can also do it with\n",
    "    plt.title(f'Distribution of {col}')\n",
    "    plt.show()"
   ]
  },
  {
   "cell_type": "code",
   "execution_count": null,
   "id": "c66d521ff628a8e3",
   "metadata": {},
   "outputs": [],
   "source": [
    "# Bar plots for categorical features\n",
    "categorical_cols = ['Parental_Involvement', 'Access_to_Resources', 'Extracurricular_Activities',\n",
    "                    'Internet_Access', 'Tutoring_Sessions', 'Teacher_Quality', 'School_Type',\n",
    "                    'Peer_Influence', 'Learning_Disabilities', 'Parental_Education_Level', 'Gender']\n",
    "for col in categorical_cols:\n",
    "    plt.figure(figsize=(6, 4))\n",
    "    sns.countplot(x=col, data=df)\n",
    "    plt.title(f'Distribution of {col}')\n",
    "    plt.xticks(rotation=45)\n",
    "    plt.show()"
   ]
  },
  {
   "cell_type": "code",
   "execution_count": null,
   "id": "389eb13505f0b42a",
   "metadata": {},
   "outputs": [],
   "source": [
    "# Scatter plots against 'Exam_Score'\n",
    "for col in numerical_cols:\n",
    "    if col != 'Exam_Score':  # Avoid Exam_Score vs. Exam_Score\n",
    "        plt.figure(figsize=(6, 4))\n",
    "        sns.scatterplot(x=col, y='Exam_Score', data=df)\n",
    "        plt.title(f'{col} vs. Exam_Score')\n",
    "        plt.show()"
   ]
  },
  {
   "cell_type": "code",
   "execution_count": null,
   "id": "8467890be2070a6c",
   "metadata": {},
   "outputs": [],
   "source": [
    "# Box plots for categorical features against 'Exam_Score'\n",
    "for col in categorical_cols:\n",
    "    plt.figure(figsize=(6, 4))\n",
    "    sns.boxplot(x=col, y='Exam_Score', data=df)\n",
    "    plt.title(f'{col} vs. Exam_Score')\n",
    "    plt.xticks(rotation=45)\n",
    "    plt.show()"
   ]
  },
  {
   "cell_type": "code",
   "execution_count": null,
   "id": "ca17baef4a6feaae",
   "metadata": {},
   "outputs": [],
   "source": [
    "# Correlation matrix (for numerical features)\n",
    "plt.figure(figsize=(8, 6))\n",
    "sns.heatmap(df[numerical_cols].corr(), annot=True, cmap='coolwarm', fmt=\".2f\")\n",
    "plt.title('Correlation Matrix')\n",
    "plt.show()"
   ]
  },
  {
   "cell_type": "code",
   "execution_count": null,
   "id": "cfec224cc426dabb",
   "metadata": {},
   "outputs": [],
   "source": [
    "df.to_csv('/content/drive/MyDrive/Colab Notebooks/datasets/cleaned_student_performance.csv', index=False)"
   ]
  },
  {
   "cell_type": "markdown",
   "id": "6e6f86bb1836f08",
   "metadata": {},
   "source": [
    "Code Explanation:\n",
    "\n",
    "Import Libraries: Imports necessary libraries (pandas, numpy, matplotlib, seaborn).\n",
    "\n",
    "Load Dataset:\n",
    "\n",
    "Loads the corrupted_datasetStudentPerformanceFactors.csv file into a pandas DataFrame.\n",
    "\n",
    "Uses na_values to specify a list of strings that should be treated as missing values (NaN). This is crucial for handling the various inconsistent missing value representations.\n",
    "\n",
    "Prints the head(), info(), and describe() of the original DataFrame to show the initial state of the data. This helps you understand the columns, data types, and initial summary statistics (including missing value counts).\n",
    "\n",
    "Data Cleaning:\n",
    "\n",
    "pd.to_numeric(errors='coerce'): This is the key to handling the mixed data types and non-numeric entries in numerical columns.\n",
    "\n",
    "errors='coerce' is essential. It tells pandas to convert anything that cannot be converted to a number into NaN. This is how we get rid of the text/symbols in the numerical columns.\n",
    "\n",
    "After using pd.to_numeric(errors='coerce'), you'll have NaN values wherever there were strings or symbols.\n",
    "\n",
    "Imputation (Missing Value Handling): After converting columns to numeric and handling inconsistent strings, you'll likely have more NaN values. The code shows how to:\n",
    "\n",
    "Impute numerical columns with the median (more robust to outliers than the mean). df[col].fillna(df[col].median(), inplace=True) fills missing values in the column col with the median of that column.\n",
    "\n",
    "Impute categorical columns with the mode (most frequent value). df[col].fillna(df[col].mode()[0], inplace=True) fills missing values in the column col with the most frequent value in that column. mode() returns a Series, so [0] is used to get the first (and usually only) mode.\n",
    "\n",
    "Handling the inconsistent values in 'Gender': Used map function to make the strings consistent.\n",
    "\n",
    "Feature Engineering:\n",
    "\n",
    "Created a new column as combined_parental_involvement_education by combining Parental_Involvement and Parental_Education_Level.\n",
    "\n",
    "Verification: df.info() and df.head() are used again to show the cleaned data. This is important for demonstrating the effect of your cleaning steps.\n",
    "\n",
    "Exploratory Data Analysis (EDA):\n",
    "\n",
    "Univariate Analysis: Creates histograms and count plots (bar plots for categorical variables) to visualize the distribution of each variable individually. This helps you understand:\n",
    "\n",
    "Numerical: Shape (skewness, modality), central tendency (where is the \"middle\"), spread (how wide is the distribution), outliers.\n",
    "\n",
    "Categorical: Frequency of each category, class imbalance.\n",
    "\n",
    "Bivariate Analysis:\n",
    "\n",
    "Scatter Plots: Show the relationship between each numerical feature and the 'Exam_Score'. Look for trends (positive, negative, non-linear).\n",
    "\n",
    "Box Plots: Show the distribution of 'Exam_Score' for each category of a categorical variable. Look for differences in the median, spread, and presence of outliers across categories.\n",
    "\n",
    "Correlation Matrix: Calculates and displays the correlation coefficients between all pairs of numerical features. This helps identify strong linear relationships (+1 = perfect positive, -1 = perfect negative, 0 = no linear relationship).\n",
    "\n",
    "Save Cleaned Data (Optional): Saves the cleaned DataFrame to a new CSV file. This is useful for subsequent steps (like model building) without having to rerun the cleaning process every time."
   ]
  }
 ],
 "metadata": {
  "kernelspec": {
   "display_name": "Python [conda env:base] *",
   "language": "python",
   "name": "conda-base-py"
  },
  "language_info": {
   "codemirror_mode": {
    "name": "ipython",
    "version": 3
   },
   "file_extension": ".py",
   "mimetype": "text/x-python",
   "name": "python",
   "nbconvert_exporter": "python",
   "pygments_lexer": "ipython3",
   "version": "3.11.7"
  }
 },
 "nbformat": 4,
 "nbformat_minor": 5
}
