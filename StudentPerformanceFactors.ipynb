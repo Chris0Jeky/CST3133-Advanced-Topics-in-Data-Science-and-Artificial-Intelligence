{
 "cells": [
  {
   "cell_type": "code",
   "execution_count": null,
   "id": "initial_id",
   "metadata": {
    "collapsed": true
   },
   "outputs": [],
   "source": [
    "import pandas as pd\n",
    "import numpy as np\n",
    "import matplotlib.pyplot as plt\n",
    "import seaborn as sns\n",
    "\n",
    "# Mount Google Drive (if running in Colab)\n",
    "from google.colab import drive\n",
    "drive.mount('/content/drive')\n",
    "\n",
    "# Load the dataset, handling missing values and inconsistencies\n",
    "file_path = '/content/drive/MyDrive/Colab Notebooks/datasets/corrupted_datasetStudentPerformanceFactors.csv'\n",
    "missing_values = [\"--\", \"N/A\", \"NULL\", \"Not Available\", \"Unknown\", \"\"]\n",
    "\n",
    "try:\n",
    "    df = pd.read_csv(file_path, na_values=missing_values)\n",
    "except FileNotFoundError:\n",
    "    print(f\"Error: The file '{file_path}' was not found. Please check the path.\")\n",
    "    exit()  # Exit the script if the file isn't found"
   ]
  },
  {
   "metadata": {},
   "cell_type": "markdown",
   "source": "Initial Inspection",
   "id": "91f45c16ea8bc27b"
  },
  {
   "metadata": {},
   "cell_type": "code",
   "outputs": [],
   "execution_count": null,
   "source": [
    "print(\"Original Data - Head:\")\n",
    "print(df.head())\n",
    "print(\"\\nOriginal Data - Info:\")\n",
    "df.info()\n",
    "print(\"\\nOriginal Data - Describe:\")\n",
    "print(df.describe(include='all'))\n",
    "print(\"\\nOriginal Data - Shape:\")\n",
    "print(df.shape)"
   ],
   "id": "400ac091dc4ffd75"
  },
  {
   "metadata": {},
   "cell_type": "markdown",
   "source": "Handle Missing Values and Inconsistencies",
   "id": "3a252dc83da8650a"
  },
  {
   "metadata": {},
   "cell_type": "code",
   "outputs": [],
   "execution_count": null,
   "source": [
    "# Convert 'Hours_Studied' to numeric, coercing errors to NaN\n",
    "df['Hours_Studied'] = pd.to_numeric(df['Hours_Studied'], errors='coerce')\n",
    "\n",
    "# Convert 'Attendance' to numeric, coercing errors to NaN\n",
    "df['Attendance'] = pd.to_numeric(df['Attendance'], errors='coerce')\n",
    "\n",
    "# Convert 'Previous_Scores' to numeric, coercing errors to NaN\n",
    "df['Previous_Scores'] = pd.to_numeric(df['Previous_Scores'], errors='coerce')"
   ],
   "id": "6e070af69c1ee793"
  },
  {
   "metadata": {},
   "cell_type": "code",
   "outputs": [],
   "execution_count": null,
   "source": [
    "# Convert 'Family_Income' to numeric, coercing errors to NaN, and handling potential errors\n",
    "try:\n",
    "    df['Family_Income'] = pd.to_numeric(df['Family_Income'], errors='raise') #errors raise to make sure all errors are handled, see below\n",
    "except ValueError as e:\n",
    "    print(f\"\\nError converting 'Family_Income' to numeric: {e}\")\n",
    "    print(\"Unique non-numeric values in 'Family_Income':\", df['Family_Income'].loc[pd.to_numeric(df['Family_Income'], errors='coerce').isna()].unique())"
   ],
   "id": "9eb97846ebeb0fe7"
  },
  {
   "metadata": {},
   "cell_type": "code",
   "outputs": [],
   "execution_count": null,
   "source": [
    "# Convert 'Family_Income' to numeric\n",
    "df['Family_Income'] = df['Family_Income'].replace({'Low':1, 'Medium':2, 'High':3})\n",
    "\n",
    "# Clean up 'Exam_Score'\n",
    "df['Exam_Score'] = pd.to_numeric(df['Exam_Score'], errors='coerce')\n",
    "\n",
    "# Deal with other missing values\n",
    "df['Gender'] = df['Gender'].replace({'Male': 'MALE', 'Female': 'FEMALE'})"
   ],
   "id": "5bbab99228f01095"
  },
  {
   "metadata": {},
   "cell_type": "code",
   "outputs": [],
   "execution_count": null,
   "source": [
    "df.describe()\n",
    "\n",
    "# Impute numerical missing values with the median\n",
    "for col in [\n",
    "    'Hours_Studied', 'Attendance', 'Previous_Scores',\n",
    "    'Exam_Score', 'Sleep_Hours', 'Physical_Activity'\n",
    "]:\n",
    "    df[col] = df[col].fillna(df[col].median())\n",
    "\n",
    "df.describe()"
   ],
   "id": "91d03d1ee0706c62"
  },
  {
   "metadata": {},
   "cell_type": "code",
   "outputs": [],
   "execution_count": null,
   "source": [
    "df.info()\n",
    "\n",
    "for col in [\n",
    "    'Parental_Involvement', 'Access_to_Resources', 'Extracurricular_Activities',\n",
    "    'Internet_Access', 'Tutoring_Sessions', 'School_Type','Peer_Influence',\n",
    "    'Learning_Disabilities', 'Parental_Education_Level', 'Distance_from_Home',\n",
    "    'Gender','Family_Income', 'Teacher_Quality', 'Motivation_Level'\n",
    "]:\n",
    "    df[col] = df[col].fillna(df[col].mode()[0])\n",
    "\n",
    "df.info()"
   ],
   "id": "9883d7a5def44e57"
  }
 ],
 "metadata": {
  "kernelspec": {
   "display_name": "Python 3",
   "language": "python",
   "name": "python3"
  },
  "language_info": {
   "codemirror_mode": {
    "name": "ipython",
    "version": 2
   },
   "file_extension": ".py",
   "mimetype": "text/x-python",
   "name": "python",
   "nbconvert_exporter": "python",
   "pygments_lexer": "ipython2",
   "version": "2.7.6"
  }
 },
 "nbformat": 4,
 "nbformat_minor": 5
}
