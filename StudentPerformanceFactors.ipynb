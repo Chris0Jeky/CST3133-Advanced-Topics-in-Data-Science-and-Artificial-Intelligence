{
 "cells": [
  {
   "cell_type": "code",
   "execution_count": null,
   "id": "initial_id",
   "metadata": {
    "collapsed": true
   },
   "outputs": [],
   "source": [
    "import pandas as pd\n",
    "import numpy as np\n",
    "import matplotlib.pyplot as plt\n",
    "import seaborn as sns\n",
    "\n",
    "# Mount Google Drive (if running in Colab)\n",
    "from google.colab import drive\n",
    "drive.mount('/content/drive')\n",
    "\n",
    "# Load the dataset, handling missing values and inconsistencies\n",
    "file_path = '/content/drive/MyDrive/Colab Notebooks/datasets/corrupted_datasetStudentPerformanceFactors.csv'\n",
    "missing_values = [\"--\", \"N/A\", \"NULL\", \"Not Available\", \"Unknown\", \"\"]\n",
    "\n",
    "try:\n",
    "    df = pd.read_csv(file_path, na_values=missing_values)\n",
    "except FileNotFoundError:\n",
    "    print(f\"Error: The file '{file_path}' was not found. Please check the path.\")\n",
    "    exit()  # Exit the script if the file isn't found"
   ]
  },
  {
   "metadata": {},
   "cell_type": "markdown",
   "source": "Initial Inspection",
   "id": "91f45c16ea8bc27b"
  },
  {
   "metadata": {},
   "cell_type": "code",
   "outputs": [],
   "execution_count": null,
   "source": [
    "print(\"Original Data - Head:\")\n",
    "print(df.head())\n",
    "print(\"\\nOriginal Data - Info:\")\n",
    "df.info()\n",
    "print(\"\\nOriginal Data - Describe:\")\n",
    "print(df.describe(include='all'))\n",
    "print(\"\\nOriginal Data - Shape:\")\n",
    "print(df.shape)"
   ],
   "id": "400ac091dc4ffd75"
  }
 ],
 "metadata": {
  "kernelspec": {
   "display_name": "Python 3",
   "language": "python",
   "name": "python3"
  },
  "language_info": {
   "codemirror_mode": {
    "name": "ipython",
    "version": 2
   },
   "file_extension": ".py",
   "mimetype": "text/x-python",
   "name": "python",
   "nbconvert_exporter": "python",
   "pygments_lexer": "ipython2",
   "version": "2.7.6"
  }
 },
 "nbformat": 4,
 "nbformat_minor": 5
}
